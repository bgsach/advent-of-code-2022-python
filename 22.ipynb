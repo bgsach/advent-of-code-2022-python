{
 "cells": [
  {
   "cell_type": "code",
   "execution_count": 350,
   "metadata": {},
   "outputs": [],
   "source": [
    "from pathlib import Path\n",
    "import numpy as np\n",
    "from enum import Enum\n",
    "from typing import Tuple\n",
    "from dataclasses import dataclass"
   ]
  },
  {
   "cell_type": "code",
   "execution_count": 351,
   "metadata": {},
   "outputs": [],
   "source": [
    "def parse_map(lines):\n",
    "    width = max(len(l) for l in lines)\n",
    "    M = [list(l + ' ' * (width-len(l))) for l in lines]\n",
    "    return np.array(M)\n",
    "        \n",
    "def parse_inst(insts):\n",
    "    cur = ''\n",
    "    out = []\n",
    "    for c in insts:\n",
    "        if c in ['L','R']:\n",
    "            if len(cur) > 0:\n",
    "                out.extend([int(cur),c])\n",
    "            else:\n",
    "                out.append(c)\n",
    "            cur = ''\n",
    "        else:\n",
    "            cur = cur + c\n",
    "    if len(cur) > 0:\n",
    "        out.append(int(cur))\n",
    "    return out\n",
    "\n",
    "\n"
   ]
  },
  {
   "cell_type": "code",
   "execution_count": 357,
   "metadata": {},
   "outputs": [],
   "source": [
    "def corners(TL, c0, c1):\n",
    "    TL = TL\n",
    "    \n",
    "    TR = list(TL)\n",
    "    TR[c0] = 1 - TR[c0]\n",
    "    TR = tuple(TR)\n",
    "\n",
    "    BL = list(TL)\n",
    "    BL[c1] = 1 - BL[c1]\n",
    "    BL = tuple(BL)\n",
    "\n",
    "    BR = list(TL)\n",
    "    BR[c0] = 1 - BR[c0]\n",
    "    BR[c1] = 1 - BR[c1]\n",
    "    BR = tuple(BR)\n",
    "\n",
    "    return [TL, TR, BL, BR]"
   ]
  },
  {
   "cell_type": "code",
   "execution_count": 360,
   "metadata": {},
   "outputs": [
    {
     "data": {
      "text/plain": [
       "[(1, 1, 0), (1, 0, 0), (1, 1, 1), (1, 0, 1)]"
      ]
     },
     "execution_count": 360,
     "metadata": {},
     "output_type": "execute_result"
    }
   ],
   "source": [
    "corners((1,1,0), 1, 2)"
   ]
  },
  {
   "cell_type": "code",
   "execution_count": 407,
   "metadata": {},
   "outputs": [],
   "source": [
    "def parse_cube(lines):\n",
    "    sz = int(len(lines[0])/3)\n",
    "    M = np.zeros((6,sz,sz), dtype='U1')\n",
    "    k = 0\n",
    "    N = {}\n",
    "    for i in range(0,len(lines), sz):        \n",
    "        for j in range(0, len(lines[i]), sz):\n",
    "            if lines[i][j] != ' ':\n",
    "                M[k] = np.array([[c for c in l[j:j+sz]] for l in lines[i:i+sz]], dtype='U1')\n",
    "                \n",
    "                N[(i // sz, j//sz)] = k\n",
    "                k +=1\n",
    "\n",
    "                \n",
    "                \n",
    "\n",
    "    assert k == 6\n",
    "    return M, N\n",
    "        "
   ]
  },
  {
   "cell_type": "code",
   "execution_count": 502,
   "metadata": {},
   "outputs": [],
   "source": [
    "class Point():\n",
    "    def __init__(self, x,y,z):\n",
    "        self._t = (x,y,z)\n",
    "\n",
    "    def __add__(self, other):\n",
    "        t = tuple(s+o for (s,o) in zip(self._t, other._t))\n",
    "        return Point(*t)\n",
    "    \n",
    "    def __sub__(self, other):\n",
    "        t = tuple(s-o for (s,o) in zip(self._t, other._t))\n",
    "        return Point(*t)\n",
    "\n",
    "    def __abs__(self):\n",
    "        t = tuple(abs(s) for s in self._t)\n",
    "        return Point(*t)\n",
    "\n",
    "    def __repr__(self):\n",
    "        return repr(self._t)\n",
    "\n",
    "@dataclass\n",
    "class Side:\n",
    "    topleft : Point\n",
    "    topright : Point\n",
    "    bottomleft : Point\n",
    "    bottomright : Point\n",
    "\n",
    "    @property\n",
    "    def coord_x(self):\n",
    "        return abs(self.topright - self.topleft)\n",
    "\n",
    "    @property\n",
    "    def coord_y(self):\n",
    "        return abs(self.topleft - self.bottomleft)\n",
    "\n",
    "    @property\n",
    "    def coord_other(self):\n",
    "        return Point(1,1,1) - (self.coord_x + self.coord_y)\n",
    "\n",
    "    def left(self):\n",
    "        topright = self.topleft\n",
    "        bottomright = self.bottomleft\n",
    "        topleft = abs(self.topleft - self.coord_other)\n",
    "        bottomleft = abs(self.bottomleft - self.coord_other)\n",
    "\n",
    "        return Side(topleft, topright, bottomleft, bottomright)\n",
    "        \n",
    "    def right(self):\n",
    "        topleft = self.topright\n",
    "        bottomleft = self.bottomright\n",
    "        topright = abs(self.topright - self.coord_other)\n",
    "        bottomright = abs(self.bottomright - self.coord_other)\n",
    "\n",
    "        return Side(topleft, topright, bottomleft, bottomright)\n",
    "\n",
    "    def up(self):\n",
    "        bottomleft = self.topleft\n",
    "        bottomright = self.topright\n",
    "        topleft = abs(self.topleft - self.coord_other)\n",
    "        topright = abs(self.topright - self.coord_other)\n",
    "\n",
    "        return Side(topleft, topright, bottomleft, bottomright)\n",
    "\n",
    "    def down(self):\n",
    "        topleft = self.bottomleft\n",
    "        topright = self.bottomright\n",
    "        bottomleft = abs(self.bottomleft - self.coord_other)\n",
    "        bottomright = abs(self.bottomright - self.coord_other)\n",
    "\n",
    "        return Side(topleft, topright, bottomleft, bottomright)\n"
   ]
  },
  {
   "cell_type": "code",
   "execution_count": 503,
   "metadata": {},
   "outputs": [
    {
     "data": {
      "text/plain": [
       "(3, 0, 7)"
      ]
     },
     "execution_count": 503,
     "metadata": {},
     "output_type": "execute_result"
    }
   ],
   "source": [
    "abs(Point(-3,0,7))"
   ]
  },
  {
   "cell_type": "code",
   "execution_count": 505,
   "metadata": {},
   "outputs": [
    {
     "name": "stdout",
     "output_type": "stream",
     "text": [
      "(0, 0, 1)\n",
      "(1, 0, 0)\n",
      "(0, 1, 0)\n"
     ]
    },
    {
     "data": {
      "text/plain": [
       "Side(topleft=(0, 1, 1), topright=(1, 1, 1), bottomleft=(0, 0, 1), bottomright=(1, 0, 1))"
      ]
     },
     "execution_count": 505,
     "metadata": {},
     "output_type": "execute_result"
    }
   ],
   "source": [
    "side = Side(Point(0,1,0), Point(1,1,0), Point(0,1,1), Point(1,1,1))\n",
    "print(side.coord_y)\n",
    "print(side.coord_x)\n",
    "print(side.coord_other)\n",
    "\n",
    "side.down()"
   ]
  },
  {
   "cell_type": "code",
   "execution_count": 510,
   "metadata": {},
   "outputs": [
    {
     "data": {
      "text/plain": [
       "Side(topleft=(0, 0, 0), topright=(0, 1, 0), bottomleft=(0, 0, 1), bottomright=(0, 1, 1))"
      ]
     },
     "execution_count": 510,
     "metadata": {},
     "output_type": "execute_result"
    }
   ],
   "source": [
    "side = Side(Point(0,0,0), Point(1,0,0), Point(0,1,0), Point(1,1,0))\n",
    "side.down().left()\n"
   ]
  },
  {
   "attachments": {},
   "cell_type": "markdown",
   "metadata": {},
   "source": [
    "roll the die over the map"
   ]
  },
  {
   "attachments": {},
   "cell_type": "markdown",
   "metadata": {},
   "source": [
    "```\n",
    "            (0,0,0) --- (1,0,0)\n",
    "               |     x     |\n",
    "               |y  (x,y)   |y\n",
    "               |     x     |\n",
    "(0,0,0) --- (0,1,0) --- (1,1,0) --- (1,0,0)\n",
    "   |     y     |     x     |     y     |\n",
    "   |z          |z  (x,z)   |z          |z\n",
    "   |     y     |     x     |     y     |\n",
    "(0,0,1) --- (0,1,1) --- (1,1,1) --- (1,0,1)\n",
    "```\n",
    "\n",
    "\n",
    "```\n",
    "            (0,0,0) --- (1,0,0)\n",
    "               |     x     |\n",
    "               |y          |y\n",
    "               |     x     |\n",
    "(0,0,0) --- (0,1,0) --- (1,1,0)\n",
    "   |     y     |     x     |\n",
    "   |z          |z          |z\n",
    "   |     y     |     x     |\n",
    "(0,0,1) --- (0,1,1) --- (1,1,1) --- (1,1,0)\n",
    "               |     x     |     z     |\n",
    "               |y          |y         y|\n",
    "               |     x     |     z     |\n",
    "            (0,0,1) --- (1,0,1) --- (1,0,0)\n",
    "```"
   ]
  },
  {
   "cell_type": "code",
   "execution_count": 409,
   "metadata": {},
   "outputs": [
    {
     "name": "stdout",
     "output_type": "stream",
     "text": [
      "((0, 2), 0)\n",
      "((1, 0), 1)\n",
      "((1, 1), 2)\n",
      "((1, 2), 3)\n",
      "((2, 2), 4)\n",
      "((2, 3), 5)\n"
     ]
    }
   ],
   "source": [
    "M, I = Path(f'test/22.txt').read_text().rstrip().split('\\n\\n')\n",
    "M, N = parse_cube(M.rstrip().split('\\n'))\n",
    "print(*N.items(), sep='\\n')"
   ]
  },
  {
   "cell_type": "code",
   "execution_count": 411,
   "metadata": {},
   "outputs": [
    {
     "name": "stdout",
     "output_type": "stream",
     "text": [
      "((0, 1), 0)\n",
      "((0, 2), 1)\n",
      "((1, 1), 2)\n",
      "((2, 0), 3)\n",
      "((2, 1), 4)\n",
      "((3, 0), 5)\n"
     ]
    }
   ],
   "source": [
    "M, I = Path(f'data/22.txt').read_text().rstrip().split('\\n\\n')\n",
    "M, N = parse_cube(M.rstrip().split('\\n'))\n",
    "print(*N.items(), sep='\\n')"
   ]
  },
  {
   "cell_type": "code",
   "execution_count": 402,
   "metadata": {},
   "outputs": [],
   "source": [
    "def read(prefix='data', part=1):\n",
    "    M, I = Path(f'{prefix}/22.txt').read_text().rstrip().split('\\n\\n')\n",
    "    if part == 1:\n",
    "        M = parse_map(M.rstrip().split('\\n'))\n",
    "    else:\n",
    "        M = parse_cube(M.rstrip().split('\\n'))\n",
    "    return M, parse_inst(I)\n"
   ]
  },
  {
   "cell_type": "code",
   "execution_count": 324,
   "metadata": {},
   "outputs": [],
   "source": [
    "M, I = read('test', part=2)"
   ]
  },
  {
   "cell_type": "code",
   "execution_count": 325,
   "metadata": {},
   "outputs": [
    {
     "data": {
      "text/plain": [
       "(6, 4, 4)"
      ]
     },
     "execution_count": 325,
     "metadata": {},
     "output_type": "execute_result"
    }
   ],
   "source": [
    "M.shape"
   ]
  },
  {
   "cell_type": "code",
   "execution_count": 316,
   "metadata": {},
   "outputs": [],
   "source": [
    "class Facing(Enum):\n",
    "    right = 0\n",
    "    down = 1\n",
    "    left = 2\n",
    "    up = 3\n",
    "\n",
    "    def turnR(self):\n",
    "        val = (self.value +1) % 4\n",
    "        return Facing(val)\n",
    "\n",
    "    def turnL(self):\n",
    "        val = (self.value -1) % 4\n",
    "        return Facing(val)\n",
    "\n",
    "    def turn(self, d):\n",
    "        if d == 'L':\n",
    "            return self.turnL()\n",
    "        elif d == 'R':\n",
    "            return self.turnR()\n",
    "        else:\n",
    "            raise Exception(f'unknown direction {d=}')"
   ]
  },
  {
   "cell_type": "code",
   "execution_count": 317,
   "metadata": {},
   "outputs": [],
   "source": [
    "class Map:\n",
    "    def __init__(self, M):\n",
    "        self._M = M\n",
    "        self.x = list(M[0]).index('.')\n",
    "        self.y = 0\n",
    "        self.facing = Facing.right\n",
    "        self.__set_boundary()\n",
    "    \n",
    "    def __set_boundary(self):\n",
    "        self.edgeL, self.edgeR = [], []\n",
    "        for i in range(self._M.shape[0]):\n",
    "            onmap = np.where(self._M[i] != ' ')[0]\n",
    "            self.edgeL.append(onmap[0])\n",
    "            self.edgeR.append(onmap[-1])\n",
    "\n",
    "        self.edgeT, self.edgeB = [], []\n",
    "        for i in range(self._M.shape[1]):\n",
    "            onmap = np.where(self._M[:,i] != ' ')[0]\n",
    "            self.edgeT.append(onmap[0])\n",
    "            self.edgeB.append(onmap[-1])\n",
    "\n",
    "\n",
    "    def move(self, inst):\n",
    "        if inst in ['L', 'R']:\n",
    "            self.facing = self.facing.turn(inst)\n",
    "        else:\n",
    "            inst = int(inst)\n",
    "            self.forward(inst)\n",
    "\n",
    "    def forward(self, num_steps : int):\n",
    "        assert num_steps >= 0\n",
    "        for _ in range(num_steps):\n",
    "            moved = self.step()\n",
    "            if not moved:\n",
    "                return\n",
    "\n",
    "    def step(self):\n",
    "        match self.facing:\n",
    "            case Facing.up:\n",
    "                if self.y == self.edgeT[self.x]:\n",
    "                    x_n, y_n = self.x, self.edgeB[self.x]\n",
    "                else:\n",
    "                    x_n, y_n = self.x, self.y - 1\n",
    "            case Facing.down:\n",
    "                if self.y == self.edgeB[self.x]:\n",
    "                    x_n, y_n = self.x ,self.edgeT[self.x]\n",
    "                else:\n",
    "                    x_n, y_n = self.x, self.y + 1\n",
    "            case Facing.left:\n",
    "                if self.x == self.edgeL[self.y]:\n",
    "                    x_n, y_n = self.edgeR[self.y], self.y\n",
    "                else:\n",
    "                    x_n, y_n = self.x - 1, self.y\n",
    "            case Facing.right:\n",
    "                if self.x == self.edgeR[self.y]:\n",
    "                    x_n, y_n = self.edgeL[self.y], self.y\n",
    "                else:\n",
    "                    x_n, y_n = self.x + 1, self.y\n",
    "            \n",
    "        can_move = (self._M[y_n, x_n] == '.')\n",
    "        if can_move:\n",
    "            self.x, self.y = x_n, y_n\n",
    "            #print(self.x, self.y, self.facing)\n",
    "        return can_move\n",
    "\n",
    "\n",
    "    def disp(self):\n",
    "        print(*[''.join(r) for r in self._M], sep='\\n')\n",
    "\n",
    "    def password(self):\n",
    "        return ((self.y+1) * 1000)  + ((self.x+1) * 4) + self.facing.value"
   ]
  },
  {
   "cell_type": "code",
   "execution_count": 318,
   "metadata": {},
   "outputs": [
    {
     "data": {
      "text/plain": [
       "6032"
      ]
     },
     "execution_count": 318,
     "metadata": {},
     "output_type": "execute_result"
    }
   ],
   "source": [
    "M, I = read('test')\n",
    "map = Map(M)\n",
    "for inst in I:\n",
    "    map.move(inst)\n",
    "map.password()"
   ]
  },
  {
   "cell_type": "code",
   "execution_count": 319,
   "metadata": {},
   "outputs": [
    {
     "data": {
      "text/plain": [
       "66292"
      ]
     },
     "execution_count": 319,
     "metadata": {},
     "output_type": "execute_result"
    }
   ],
   "source": [
    "M, I = read()\n",
    "map = Map(M)\n",
    "for inst in I:\n",
    "    map.move(inst)\n",
    "map.password()"
   ]
  },
  {
   "cell_type": "code",
   "execution_count": 320,
   "metadata": {},
   "outputs": [],
   "source": [
    "sz = 4\n",
    "M = np.zeros((sz+2,sz+2,sz+2), dtype='U1')"
   ]
  },
  {
   "cell_type": "code",
   "execution_count": 321,
   "metadata": {},
   "outputs": [
    {
     "data": {
      "text/plain": [
       "(6, 6, 6)"
      ]
     },
     "execution_count": 321,
     "metadata": {},
     "output_type": "execute_result"
    }
   ],
   "source": [
    "M.shape\n",
    "# dx, dy, dz\n",
    "# x, y, z"
   ]
  },
  {
   "cell_type": "code",
   "execution_count": 322,
   "metadata": {},
   "outputs": [],
   "source": [
    "class Map2:\n",
    "    def __init__(self, M, T):\n",
    "        self._M = M\n",
    "        self._T = T\n",
    "        self.x = 0\n",
    "        self.y = 0\n",
    "        self.side = 0\n",
    "        self.facing = Facing.right\n",
    "\n",
    "    @property\n",
    "    def size(self):\n",
    "        return self._M.shape[1]    \n",
    "    \n",
    "    def move(self, inst):\n",
    "        if inst in ['L', 'R']:\n",
    "            self.facing = self.facing.turn(inst)\n",
    "        else:\n",
    "            inst = int(inst)\n",
    "            self.forward(inst)\n",
    "\n",
    "    def forward(self, num_steps : int):\n",
    "        assert num_steps >= 0\n",
    "        for _ in range(num_steps):\n",
    "            moved = self.step()\n",
    "            if not moved:\n",
    "                return\n",
    "\n",
    "    def transition_to(self):\n",
    "        return self._T[self.side, self.facing](self.x, self.y)\n",
    "\n",
    "    def step(self):\n",
    "        s_t = self.transition_to(self.side, self.facing)\n",
    "        match self.facing:\n",
    "            case Facing.up:\n",
    "                if self.y == 0:\n",
    "                    s_n, x_n, y_n = s_t, self.x, self.size - 1\n",
    "                else:\n",
    "                    s_n, x_n, y_n = self.side, self.x, self.y - 1\n",
    "            case Facing.down:\n",
    "                if self.y == self.size - 1:\n",
    "                    s_n, x_n, y_n = s_t, self.x , 0\n",
    "                else:\n",
    "                    s_n, x_n, y_n = self.side, self.x, self.y + 1\n",
    "            case Facing.left:\n",
    "                if self.x == 0:\n",
    "                    s_n, x_n, y_n = s_t, self.size -1 , self.y\n",
    "                else:\n",
    "                    s_n, x_n, y_n = self.side, self.x - 1, self.y\n",
    "            case Facing.right:\n",
    "                if self.x == self.size - 1:\n",
    "                    s_n, x_n, y_n = s_t, 0, self.y\n",
    "                else:\n",
    "                    s_n, x_n, y_n = self.side, self.x + 1, self.y\n",
    "            \n",
    "        can_move = (self._M[s_n, y_n, x_n] == '.')\n",
    "        if can_move:\n",
    "            self.size, self.x, self.y = s_n, x_n, y_n\n",
    "        return can_move\n",
    "\n",
    "\n",
    "    def disp(self):\n",
    "        print(*[''.join(r) for r in self._M], sep='\\n')\n",
    "\n",
    "    def password(self):\n",
    "        return ((self.y+1) * 1000)  + ((self.x+1) * 4) + self.facing.value"
   ]
  },
  {
   "cell_type": "code",
   "execution_count": 307,
   "metadata": {},
   "outputs": [],
   "source": [
    "\n"
   ]
  },
  {
   "cell_type": "code",
   "execution_count": null,
   "metadata": {},
   "outputs": [],
   "source": []
  }
 ],
 "metadata": {
  "kernelspec": {
   "display_name": "Python 3",
   "language": "python",
   "name": "python3"
  },
  "language_info": {
   "codemirror_mode": {
    "name": "ipython",
    "version": 3
   },
   "file_extension": ".py",
   "mimetype": "text/x-python",
   "name": "python",
   "nbconvert_exporter": "python",
   "pygments_lexer": "ipython3",
   "version": "3.11.0"
  },
  "orig_nbformat": 4,
  "vscode": {
   "interpreter": {
    "hash": "949777d72b0d2535278d3dc13498b2535136f6dfe0678499012e853ee9abcab1"
   }
  }
 },
 "nbformat": 4,
 "nbformat_minor": 2
}
