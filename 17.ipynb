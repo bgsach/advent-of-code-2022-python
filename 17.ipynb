{
 "cells": [
  {
   "cell_type": "code",
   "execution_count": 61,
   "metadata": {},
   "outputs": [],
   "source": [
    "from pathlib import Path\n",
    "import numpy as np\n",
    "import itertools"
   ]
  },
  {
   "cell_type": "code",
   "execution_count": 441,
   "metadata": {},
   "outputs": [],
   "source": [
    "def read(prefix='data'):\n",
    "    data = Path(f'{prefix}/17.txt').read_text().rstrip()\n",
    "    return data"
   ]
  },
  {
   "cell_type": "code",
   "execution_count": 442,
   "metadata": {},
   "outputs": [],
   "source": [
    "disp = lambda B, h=10 : print(*[''.join(r) for r in B[-h:]], sep='\\n')"
   ]
  },
  {
   "cell_type": "code",
   "execution_count": 443,
   "metadata": {},
   "outputs": [],
   "source": [
    "def board(count=2022):\n",
    "    B = np.full((count*4+10,9), fill_value='.')\n",
    "    B[:,0] = '|'\n",
    "    B[:,-1] = '|'\n",
    "    B[-1,:] = '-'\n",
    "    B[-1,0] = '+'\n",
    "    B[-1,-1] = '+'\n",
    "    return B"
   ]
  },
  {
   "cell_type": "code",
   "execution_count": 444,
   "metadata": {},
   "outputs": [],
   "source": [
    "def shapes(count=2022):\n",
    "    S = {}\n",
    "    S['-'] = np.array([['#','#','#','#']])\n",
    "    S['+'] = np.array([['.','#','.'],['#', '#', '#'], ['.','#','.']])\n",
    "    S['L'] = np.array([['.','.','#'],['.','.','#'],['#', '#', '#']])\n",
    "    S['|'] = np.array([['#','#','#','#']]).T\n",
    "    S['o'] = np.array([['#', '#'], ['#', '#']])\n",
    "    return S"
   ]
  },
  {
   "cell_type": "code",
   "execution_count": 445,
   "metadata": {},
   "outputs": [
    {
     "name": "stdout",
     "output_type": "stream",
     "text": [
      "\n",
      "####\n",
      "\n",
      ".#.\n",
      "###\n",
      ".#.\n",
      "\n",
      "..#\n",
      "..#\n",
      "###\n",
      "\n",
      "#\n",
      "#\n",
      "#\n",
      "#\n",
      "\n",
      "##\n",
      "##\n"
     ]
    }
   ],
   "source": [
    "for s in shapes().values():\n",
    "    print()\n",
    "    disp(s)"
   ]
  },
  {
   "cell_type": "code",
   "execution_count": 446,
   "metadata": {},
   "outputs": [
    {
     "name": "stdout",
     "output_type": "stream",
     "text": [
      "|.......|\n",
      "|.......|\n",
      "|.......|\n",
      "|.......|\n",
      "|.......|\n",
      "|.......|\n",
      "|.......|\n",
      "|.......|\n",
      "|.......|\n",
      "+-------+\n"
     ]
    }
   ],
   "source": [
    "disp(board(), h=10)"
   ]
  },
  {
   "cell_type": "code",
   "execution_count": 447,
   "metadata": {},
   "outputs": [],
   "source": [
    "def outofbounds(B, S, x, y):\n",
    "    if x < 1:\n",
    "        return True\n",
    "    if y < 0:\n",
    "        return True\n",
    "    if x + S.shape[1] >= B.shape[1]:\n",
    "        return True\n",
    "    if y + S.shape[0] >= B.shape[0]:\n",
    "        return True\n",
    "\n",
    "    return False"
   ]
  },
  {
   "cell_type": "code",
   "execution_count": 448,
   "metadata": {},
   "outputs": [],
   "source": [
    "def intersect(B, s, x, y):\n",
    "    Bw = B[y:y+s.shape[0],x:x+s.shape[1]]\n",
    "    return ((Bw == '#') & (s == '#')).any()"
   ]
  },
  {
   "cell_type": "code",
   "execution_count": 449,
   "metadata": {},
   "outputs": [],
   "source": [
    "def place(B, s, x, y):\n",
    "    Bw = B[y:y+s.shape[0],x:x+s.shape[1]]\n",
    "    B[y:y+s.shape[0],x:x+s.shape[1]] = np.where((s == '#'), s, Bw)"
   ]
  },
  {
   "cell_type": "code",
   "execution_count": 450,
   "metadata": {},
   "outputs": [],
   "source": [
    "def drop(B, s, M, M_idx, h):\n",
    "    x = 3\n",
    "    y = h - s.shape[0] - 3\n",
    "    down = False\n",
    "    while True:\n",
    "        if down:\n",
    "            xn, yn = x, y+1\n",
    "        if not down:\n",
    "            xn = x+1 if (M[M_idx] == '>') else x-1\n",
    "            yn = y\n",
    "            M_idx = (M_idx + 1) % len(M)\n",
    "        oob = outofbounds(B,s, xn,yn)\n",
    "        isct = intersect(B,s, xn, yn)\n",
    "        if oob or isct:\n",
    "            if down:\n",
    "                break\n",
    "        else:\n",
    "            x, y = xn, yn\n",
    "\n",
    "        down = not down\n",
    "\n",
    "    place(B, s, x, y)\n",
    "    h = min(h, y)\n",
    "    return h, M_idx\n"
   ]
  },
  {
   "cell_type": "code",
   "execution_count": 464,
   "metadata": {},
   "outputs": [],
   "source": [
    "from collections import defaultdict\n",
    "\n",
    "def compute(M,count, M_idx=0):\n",
    "    B = board(count)\n",
    "    S = shapes()\n",
    "    h = B.shape[0]-1 # floor\n",
    "    seen = defaultdict(list)\n",
    "    for i, (k,s) in zip(range(count), itertools.cycle(S.items())):\n",
    "        h, M_idx = drop(B, s, M, M_idx, h)\n",
    "        mins = tuple((B[:,1:-1] == '#').argmax(axis=0) - h)\n",
    "        seen[mins, k, M_idx].append((B.shape[0] - h -1, i))\n",
    "    return h,B, seen"
   ]
  },
  {
   "cell_type": "code",
   "execution_count": 465,
   "metadata": {},
   "outputs": [
    {
     "name": "stdout",
     "output_type": "stream",
     "text": [
      "3068\n",
      "|...#...|\n",
      "|#..####|\n",
      "|#...#..|\n",
      "|#...#..|\n",
      "|#...##.|\n",
      "|##..##.|\n",
      "|######.|\n",
      "|.###...|\n",
      "|..#....|\n",
      "|.####..|\n",
      "|....##.|\n",
      "|....##.|\n",
      "|....#..|\n",
      "|..#.#..|\n",
      "|..#.#..|\n",
      "|#####..|\n",
      "|..###..|\n",
      "|...#...|\n",
      "|..####.|\n",
      "+-------+\n"
     ]
    },
    {
     "data": {
      "text/plain": [
       "35"
      ]
     },
     "execution_count": 465,
     "metadata": {},
     "output_type": "execute_result"
    }
   ],
   "source": [
    "count = 2022\n",
    "M = read('test')\n",
    "h, B, seen = compute(M,count)\n",
    "print(B.shape[0] - h -1)\n",
    "disp(B,h=20)\n",
    "reps = {k: v for (k,v) in seen.items() if len(v) > 1}\n",
    "len(reps)"
   ]
  },
  {
   "cell_type": "code",
   "execution_count": 468,
   "metadata": {},
   "outputs": [
    {
     "name": "stdout",
     "output_type": "stream",
     "text": [
      "((2, 2, 0, 2, 3, 5, 7), 'L', 28)\n",
      "((0, 4, 2, 4, 5, 7, 9), '|', 34)\n",
      "((0, 4, 2, 4, 5, 5, 5), 'o', 5)\n",
      "((0, 1, 1, 1, 1, 5, 5), '-', 11)\n",
      "((2, 3, 3, 1, 0, 1, 7), '+', 16)\n",
      "((5, 6, 2, 2, 0, 4, 10), 'L', 20)\n",
      "((9, 10, 6, 6, 0, 8, 14), '|', 24)\n",
      "((9, 4, 4, 6, 0, 8, 14), 'o', 34)\n",
      "((10, 0, 0, 0, 0, 9, 15), '-', 38)\n",
      "((12, 2, 2, 2, 1, 0, 1), '+', 3)\n",
      "((13, 2, 2, 0, 2, 1, 2), 'L', 9)\n",
      "((15, 0, 4, 2, 4, 3, 4), '|', 15)\n",
      "((15, 0, 0, 0, 4, 3, 4), 'o', 21)\n",
      "((16, 1, 0, 0, 0, 0, 5), '-', 25)\n",
      "((1, 0, 1, 2, 2, 2, 7), '+', 30)\n",
      "((2, 1, 2, 3, 2, 2, 0), 'L', 36)\n",
      "((4, 3, 4, 5, 0, 4, 2), '|', 2)\n",
      "((4, 3, 2, 2, 0, 4, 2), 'o', 10)\n",
      "((5, 4, 0, 0, 0, 0, 3), '-', 14)\n",
      "((8, 7, 3, 3, 1, 0, 1), '+', 18)\n",
      "((10, 9, 2, 2, 0, 2, 3), 'L', 23)\n",
      "((10, 5, 2, 2, 0, 2, 3), '|', 36)\n",
      "((10, 5, 0, 0, 0, 2, 3), 'o', 2)\n",
      "((11, 6, 0, 0, 0, 0, 4), '-', 6)\n",
      "((14, 9, 1, 0, 1, 3, 7), '+', 10)\n",
      "((17, 12, 2, 2, 0, 6, 10), 'L', 14)\n",
      "((21, 16, 6, 6, 0, 10, 14), '|', 18)\n",
      "((21, 4, 4, 6, 0, 10, 14), 'o', 28)\n",
      "((22, 0, 0, 0, 0, 11, 15), '-', 32)\n",
      "((24, 2, 2, 2, 1, 0, 1), '+', 37)\n",
      "((27, 5, 5, 5, 2, 2, 0), 'L', 1)\n",
      "((27, 5, 1, 5, 2, 2, 0), '|', 10)\n",
      "((28, 0, 0, 6, 3, 3, 1), 'o', 15)\n",
      "((29, 1, 0, 0, 0, 0, 2), '-', 19)\n",
      "((32, 4, 1, 0, 1, 3, 5), '+', 23)\n"
     ]
    }
   ],
   "source": [
    "print(*reps.keys(), sep='\\n')"
   ]
  },
  {
   "cell_type": "code",
   "execution_count": 489,
   "metadata": {},
   "outputs": [
    {
     "name": "stdout",
     "output_type": "stream",
     "text": [
      "7633\n"
     ]
    },
    {
     "data": {
      "text/plain": [
       "973"
      ]
     },
     "execution_count": 489,
     "metadata": {},
     "output_type": "execute_result"
    }
   ],
   "source": [
    "count = 5000\n",
    "M = read()\n",
    "h, B, seen = compute(M,count)\n",
    "print(B.shape[0] - h -1)\n",
    "reps = {k: v for (k,v) in seen.items() if len(v) > 2}\n",
    "len(reps)"
   ]
  },
  {
   "cell_type": "code",
   "execution_count": 490,
   "metadata": {},
   "outputs": [
    {
     "data": {
      "text/plain": [
       "[(933, 617), (3551, 2322), (6169, 4027)]"
      ]
     },
     "execution_count": 490,
     "metadata": {},
     "output_type": "execute_result"
    }
   ],
   "source": [
    "reps[((2, 1, 2, 3, 2, 2, 0), 'L', 3579)]"
   ]
  },
  {
   "cell_type": "code",
   "execution_count": 496,
   "metadata": {},
   "outputs": [
    {
     "data": {
      "text/plain": [
       "(((4, 3, 4, 5, 0, 4, 2), '|', 3585), [(935, 618), (3553, 2323), (6171, 4028)])"
      ]
     },
     "execution_count": 496,
     "metadata": {},
     "output_type": "execute_result"
    }
   ],
   "source": [
    "arep = list(reps.items())[1]\n",
    "arep"
   ]
  },
  {
   "cell_type": "code",
   "execution_count": 500,
   "metadata": {},
   "outputs": [
    {
     "data": {
      "text/plain": [
       "{(2618, 1705)}"
      ]
     },
     "execution_count": 500,
     "metadata": {},
     "output_type": "execute_result"
    }
   ],
   "source": [
    "# height, rocks\n",
    "{(n[0]-c[0],n[1]-c[1]) for rep in reps.items() for (c,n) in zip(rep[1], rep[1][1:])}"
   ]
  },
  {
   "cell_type": "code",
   "execution_count": 406,
   "metadata": {},
   "outputs": [],
   "source": [
    "def cycles(l):\n",
    "    for ((ch, cm), (nh, nm)) in zip(l,l[1:]):\n",
    "        return (nh-ch, nm-cm)"
   ]
  },
  {
   "cell_type": "code",
   "execution_count": null,
   "metadata": {},
   "outputs": [],
   "source": []
  },
  {
   "cell_type": "code",
   "execution_count": 400,
   "metadata": {},
   "outputs": [],
   "source": [
    "def boost(c, target):\n",
    "    occ0 = c[1][0]\n",
    "    occ1 = c[1][1]\n",
    "    cycle_moves = occ1[1]- occ0[1]\n",
    "    cycle_height = occ1[0] - occ0[0]\n",
    "    base_height = occ0[0]\n",
    "    base_moves = occ0[1]\n",
    "    needed = int((target - base_moves)/ cycle_moves)\n",
    "    return (base_moves, base_moves + needed*cycle_moves, base_height + needed*cycle_height)"
   ]
  },
  {
   "cell_type": "code",
   "execution_count": null,
   "metadata": {},
   "outputs": [],
   "source": []
  },
  {
   "cell_type": "code",
   "execution_count": 506,
   "metadata": {},
   "outputs": [
    {
     "data": {
      "text/plain": [
       "{(53, 35)}"
      ]
     },
     "execution_count": 506,
     "metadata": {},
     "output_type": "execute_result"
    }
   ],
   "source": [
    "count = 2022\n",
    "M = read('test')\n",
    "h, B, seen = compute(M,count)\n",
    "reps = {k: v for (k,v) in seen.items() if len(v) > 1}\n",
    "{(n[0]-c[0],n[1]-c[1]) for rep in reps.items() for (c,n) in zip(rep[1], rep[1][1:])}"
   ]
  },
  {
   "cell_type": "code",
   "execution_count": 507,
   "metadata": {},
   "outputs": [
    {
     "name": "stdout",
     "output_type": "stream",
     "text": [
      "1000000000000 1514285714289\n"
     ]
    }
   ],
   "source": [
    "reps = {k: v for (k,v) in seen.items() if len(v) > 1}\n",
    "target = 1000000000000\n",
    "for c in reps.items():\n",
    "    bm, mv, ht = boost(c, target=target)\n",
    "    if mv == target:\n",
    "        print(mv, ht)"
   ]
  },
  {
   "cell_type": "code",
   "execution_count": 540,
   "metadata": {},
   "outputs": [
    {
     "name": "stdout",
     "output_type": "stream",
     "text": [
      "15375\n"
     ]
    },
    {
     "data": {
      "text/plain": [
       "{(2618, 1705)}"
      ]
     },
     "execution_count": 540,
     "metadata": {},
     "output_type": "execute_result"
    }
   ],
   "source": [
    "count = 10037\n",
    "M = read()\n",
    "h, B, seen = compute(M,count)\n",
    "print(B.shape[0] - h -1)\n",
    "reps = {k: v for (k,v) in seen.items() if len(v) > 1}\n",
    "{(n[0]-c[0],n[1]-c[1]) for rep in reps.items() for (c,n) in zip(rep[1], rep[1][1:])}"
   ]
  },
  {
   "cell_type": "code",
   "execution_count": 541,
   "metadata": {},
   "outputs": [
    {
     "name": "stdout",
     "output_type": "stream",
     "text": [
      "10037 15378\n"
     ]
    }
   ],
   "source": [
    "reps = {k: v for (k,v) in seen.items() if len(v) > 1}\n",
    "target = 10037\n",
    "for c in reps.items():\n",
    "    bm, mv, ht = boost(c, target=target)\n",
    "    if mv == target:\n",
    "        print(mv, ht)"
   ]
  },
  {
   "cell_type": "code",
   "execution_count": 402,
   "metadata": {},
   "outputs": [
    {
     "name": "stdout",
     "output_type": "stream",
     "text": [
      "3085\n",
      "|###.##.|\n",
      "|.#..#..|\n",
      "|#####..|\n",
      "|..###..|\n",
      "|...#...|\n",
      "|..###..|\n",
      "|...#...|\n",
      "|..####.|\n",
      "|..#....|\n",
      "|..#....|\n",
      "|#.#....|\n",
      "|#.#....|\n",
      "|#.#....|\n",
      "|#.#....|\n",
      "|#####..|\n",
      "|..###..|\n",
      "|.###...|\n",
      "|..#....|\n",
      "|..####.|\n",
      "+-------+\n"
     ]
    }
   ],
   "source": [
    "count = 2022\n",
    "M = read()\n",
    "h, B, seen = compute(M,count)\n",
    "print(B.shape[0] - h -1)\n",
    "disp(B,h=20)"
   ]
  },
  {
   "cell_type": "code",
   "execution_count": 412,
   "metadata": {},
   "outputs": [
    {
     "data": {
      "text/plain": [
       "28571428571.42857"
      ]
     },
     "execution_count": 412,
     "metadata": {},
     "output_type": "execute_result"
    }
   ],
   "source": [
    "target = 1000000000000\n",
    "target/35"
   ]
  },
  {
   "cell_type": "code",
   "execution_count": 503,
   "metadata": {},
   "outputs": [
    {
     "name": "stdout",
     "output_type": "stream",
     "text": [
      "1000000000000 1535483870925\n"
     ]
    }
   ],
   "source": [
    "reps = {k: v for (k,v) in seen.items() if len(v) > 1}\n",
    "target = 1000000000000\n",
    "for c in reps.items():\n",
    "    bm, mv, ht = boost(c, target=target)\n",
    "    if mv == target:\n",
    "        print(mv, ht)"
   ]
  },
  {
   "cell_type": "code",
   "execution_count": null,
   "metadata": {},
   "outputs": [],
   "source": []
  }
 ],
 "metadata": {
  "kernelspec": {
   "display_name": "Python 3.11.0 64-bit",
   "language": "python",
   "name": "python3"
  },
  "language_info": {
   "codemirror_mode": {
    "name": "ipython",
    "version": 3
   },
   "file_extension": ".py",
   "mimetype": "text/x-python",
   "name": "python",
   "nbconvert_exporter": "python",
   "pygments_lexer": "ipython3",
   "version": "3.11.0"
  },
  "orig_nbformat": 4,
  "vscode": {
   "interpreter": {
    "hash": "949777d72b0d2535278d3dc13498b2535136f6dfe0678499012e853ee9abcab1"
   }
  }
 },
 "nbformat": 4,
 "nbformat_minor": 2
}
