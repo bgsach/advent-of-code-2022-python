{
 "cells": [
  {
   "cell_type": "code",
   "execution_count": 348,
   "metadata": {},
   "outputs": [],
   "source": [
    "from pathlib import Path\n",
    "from dataclasses import dataclass, field\n",
    "import string\n",
    "from typing import List\n",
    "from copy import deepcopy\n",
    "\n",
    "import sys\n",
    "MAXINT = sys.maxsize -1"
   ]
  },
  {
   "cell_type": "code",
   "execution_count": null,
   "metadata": {},
   "outputs": [],
   "source": []
  },
  {
   "cell_type": "code",
   "execution_count": 407,
   "metadata": {},
   "outputs": [],
   "source": [
    "@dataclass\n",
    "class Robots:\n",
    "    ore : int = 1\n",
    "    clay : int = 0\n",
    "    obsidian : int = 0\n",
    "    geode : int = 0\n",
    "\n",
    "    def increment(self, s : str):\n",
    "        match s:\n",
    "            case 'ore':\n",
    "                self.ore +=1\n",
    "            case 'clay':\n",
    "                self.clay +=1\n",
    "            case 'obsidian':\n",
    "                self.obsidian +=1\n",
    "            case 'geode':\n",
    "                self.geode +=1\n",
    "\n",
    "    @property\n",
    "    def _as_tuple(self):\n",
    "        return (self.ore, self.clay, self.obsidian, self.geode)\n",
    "\n",
    "    def __iter__(self):\n",
    "        return iter(self._as_tuple)\n",
    "    def __hash__(self):\n",
    "        return hash(self._as_tuple)\n",
    "\n",
    "\n",
    "\n",
    "@dataclass\n",
    "class Resources:\n",
    "    ore : int = 0\n",
    "    clay : int = 0\n",
    "    obsidian : int = 0\n",
    "    geode : int = 0\n",
    "\n",
    "    @property\n",
    "    def _as_tuple(self):\n",
    "        return (self.ore, self.clay, self.obsidian, self.geode)\n",
    "\n",
    "    def __iter__(self):\n",
    "        return iter(self._as_tuple)\n",
    "    def __hash__(self):\n",
    "        return hash(self._as_tuple)\n",
    "\n",
    "    def can_afford(self, other):\n",
    "        return (self.ore >= other.ore) and \\\n",
    "               (self.clay >= other.clay) and \\\n",
    "               (self.obsidian >= other.obsidian) and \\\n",
    "               (self.geode >= other.geode)\n",
    "\n",
    "    def pay(self, other):\n",
    "        if self.ore != MAXINT:\n",
    "            self.ore -= other.ore\n",
    "        if self.clay != MAXINT:\n",
    "            self.clay -= other.clay\n",
    "        if self.obsidian != MAXINT:\n",
    "            self.obsidian -= other.obsidian\n",
    "        if self.geode != MAXINT:\n",
    "            self.geode -= other.geode\n",
    "\n",
    "\n",
    "@dataclass\n",
    "class Blueprint:\n",
    "    ore : Resources\n",
    "    clay : Resources\n",
    "    obsidian : Resources\n",
    "    geode : Resources\n",
    "\n",
    "    def max_costs(self):\n",
    "        max_ore = max(self.ore.ore, self.clay.ore, self.obsidian.ore, self.geode.ore)\n",
    "        max_clay = max(self.ore.clay, self.clay.clay, self.obsidian.clay, self.geode.clay)\n",
    "        max_obsidian = max(self.ore.obsidian, self.clay.obsidian, self.obsidian.obsidian, self.geode.obsidian)\n",
    "        max_geode = max(self.ore.geode, self.clay.geode, self.obsidian.geode, self.geode.geode)\n",
    "\n",
    "        return Resources(max_ore, max_clay, max_obsidian, max_geode)\n",
    "\n",
    "\n",
    "@dataclass\n",
    "class State:\n",
    "    robots : Robots = field(default_factory=Robots)\n",
    "    resources : Resources = field(default_factory=Resources)\n",
    "\n",
    "    def mine(self):\n",
    "        self.resources.ore += self.robots.ore\n",
    "        self.resources.clay += self.robots.clay\n",
    "        self.resources.obsidian += self.robots.obsidian\n",
    "        self.resources.geode += self.robots.geode\n",
    "\n",
    "    def set_inf(self, max_costs):\n",
    "        if min(self.robots.ore,self.resources.ore) >= max_costs.ore:\n",
    "            self.resources.ore = MAXINT\n",
    "        if min(self.robots.clay, self.resources.clay) >= max_costs.clay:\n",
    "            self.resources.clay = MAXINT\n",
    "        if min(self.robots.obsidian, self.resources.obsidian) >= max_costs.obsidian:\n",
    "            self.resources.obsidian = MAXINT\n",
    "\n",
    "\n",
    "    def __hash__(self):\n",
    "        return hash((self.robots, self.resources))\n",
    "\n",
    "    def better(self, other):\n",
    "        res_better = (self.resources.ore >= other.resources.ore) and \\\n",
    "               (self.resources.clay >= other.resources.clay) and \\\n",
    "               (self.resources.obsidian >= other.resources.obsidian) and \\\n",
    "               (self.resources.geode >= other.resources.geode)\n",
    "        \n",
    "        rob_better = (self.robots.ore >= other.robots.ore) and \\\n",
    "               (self.robots.clay >= other.robots.clay) and \\\n",
    "               (self.robots.obsidian >= other.robots.obsidian) and \\\n",
    "               (self.robots.geode >= other.robots.geode)\n",
    "\n",
    "        return (res_better and rob_better)\n",
    "        \n",
    "    def max(self, other):\n",
    "        res = Resources(ore=max(self.resources.ore, other.resources.ore),\n",
    "                        clay=max(self.resources.clay, other.resources.clay),\n",
    "                        obsidian=max(self.resources.obsidian, other.resources.obsidian),\n",
    "                        geode=max(self.resources.geode, other.resources.geode))\n",
    "    \n",
    "        rob = Resources(ore=max(self.robots.ore, other.robots.ore),\n",
    "                        clay=max(self.robots.clay, other.robots.clay),\n",
    "                        obsidian=max(self.robots.obsidian, other.robots.obsidian),\n",
    "                        geode=max(self.robots.geode, other.robots.geode))\n",
    "\n",
    "        return self.__class__(robots=rob, resources=res)\n",
    "\n"
   ]
  },
  {
   "cell_type": "code",
   "execution_count": 408,
   "metadata": {},
   "outputs": [],
   "source": [
    "allowed = string.digits + ' '\n",
    "\n",
    "def make_blueprint(L : List[int]):\n",
    "    assert len(L) == 7\n",
    "    ore = Resources(ore=L[1])\n",
    "    clay = Resources(ore=L[2])\n",
    "    obsidian = Resources(ore=L[3], clay=L[4])\n",
    "    geode = Resources(ore=L[5], obsidian=L[6])\n",
    "\n",
    "    return Blueprint(ore, clay, obsidian, geode)\n",
    "\n",
    "def parse_line(line):\n",
    "    parts = ''.join([c for c in line[1:] if c in allowed]).split()\n",
    "    return [int(p) for p in parts]\n",
    "\n",
    "def read(prefix='data'):\n",
    "    data = Path(f'{prefix}/19.txt').read_text().rstrip().split('\\n')\n",
    "    return [make_blueprint(parse_line(l)) for l in data]"
   ]
  },
  {
   "cell_type": "code",
   "execution_count": 424,
   "metadata": {},
   "outputs": [],
   "source": [
    "def transitions(s, B):\n",
    "    t = deepcopy(s)\n",
    "    mcosts = B.max_costs()\n",
    "    t.mine()\n",
    "    \n",
    "    T = []\n",
    "    names = ['ore', 'clay', 'obsidian', 'geode']\n",
    "    costs = [B.ore, B.clay, B.obsidian, B.geode]\n",
    "    bals = s.resources._as_tuple\n",
    "    sols = 0\n",
    "    for name, cost, bal in zip(names, costs, bals):\n",
    "        if s.resources.can_afford(cost):\n",
    "            sols+=1\n",
    "            if (bal < MAXINT):\n",
    "                a = deepcopy(t)\n",
    "                a.resources.pay(cost)\n",
    "                a.robots.increment(name)\n",
    "                a.set_inf(mcosts)\n",
    "                T.append(a)\n",
    "\n",
    "    if sols < len(names):\n",
    "        T.append(t)\n",
    "        t.set_inf(mcosts)\n",
    "    \n",
    "    return set(T)\n"
   ]
  },
  {
   "cell_type": "code",
   "execution_count": 425,
   "metadata": {},
   "outputs": [],
   "source": [
    "def prune(states : set):\n",
    "    kept = set()\n",
    "    for s in states:\n",
    "            if not any(k.better(s) for k in kept):\n",
    "                kept.add(s)\n",
    "    return kept"
   ]
  },
  {
   "cell_type": "code",
   "execution_count": 433,
   "metadata": {},
   "outputs": [],
   "source": [
    "def optimise(B : Blueprint, timeleft : int, apply_prune=False, verbose=False):\n",
    "    states = set([State()])\n",
    "    for i in range(timeleft):\n",
    "        new = set()\n",
    "        for s in states:\n",
    "            new = new | transitions(s, B)\n",
    "        if apply_prune:\n",
    "            new = prune(new)\n",
    "\n",
    "        states = new\n",
    "        if verbose:\n",
    "            print(f'{i+1}/{timeleft}, {len(states)=} max =', max(states, key = lambda s : s.resources.geode))\n",
    "\n",
    "    \n",
    "    return max(states, key = lambda s : s.resources.geode)\n"
   ]
  },
  {
   "cell_type": "code",
   "execution_count": 434,
   "metadata": {},
   "outputs": [
    {
     "name": "stdout",
     "output_type": "stream",
     "text": [
      "1/24, len(states)=1 max = State(robots=Robots(ore=1, clay=0, obsidian=0, geode=0), resources=Resources(ore=1, clay=0, obsidian=0, geode=0))\n",
      "2/24, len(states)=1 max = State(robots=Robots(ore=1, clay=0, obsidian=0, geode=0), resources=Resources(ore=2, clay=0, obsidian=0, geode=0))\n",
      "3/24, len(states)=2 max = State(robots=Robots(ore=1, clay=0, obsidian=0, geode=0), resources=Resources(ore=3, clay=0, obsidian=0, geode=0))\n",
      "4/24, len(states)=3 max = State(robots=Robots(ore=1, clay=0, obsidian=0, geode=0), resources=Resources(ore=4, clay=0, obsidian=0, geode=0))\n",
      "5/24, len(states)=5 max = State(robots=Robots(ore=1, clay=0, obsidian=0, geode=0), resources=Resources(ore=5, clay=0, obsidian=0, geode=0))\n",
      "6/24, len(states)=6 max = State(robots=Robots(ore=1, clay=1, obsidian=0, geode=0), resources=Resources(ore=4, clay=2, obsidian=0, geode=0))\n",
      "7/24, len(states)=10 max = State(robots=Robots(ore=1, clay=2, obsidian=0, geode=0), resources=Resources(ore=3, clay=6, obsidian=0, geode=0))\n",
      "8/24, len(states)=18 max = State(robots=Robots(ore=1, clay=2, obsidian=0, geode=0), resources=Resources(ore=4, clay=5, obsidian=0, geode=0))\n",
      "9/24, len(states)=25 max = State(robots=Robots(ore=1, clay=1, obsidian=0, geode=0), resources=Resources(ore=7, clay=0, obsidian=0, geode=0))\n",
      "10/24, len(states)=29 max = State(robots=Robots(ore=1, clay=4, obsidian=0, geode=0), resources=Resources(ore=2, clay=15, obsidian=0, geode=0))\n",
      "11/24, len(states)=45 max = State(robots=Robots(ore=2, clay=2, obsidian=0, geode=0), resources=Resources(ore=5, clay=14, obsidian=0, geode=0))\n",
      "12/24, len(states)=61 max = State(robots=Robots(ore=3, clay=4, obsidian=0, geode=0), resources=Resources(ore=5, clay=10, obsidian=0, geode=0))\n",
      "13/24, len(states)=71 max = State(robots=Robots(ore=3, clay=2, obsidian=0, geode=0), resources=Resources(ore=8, clay=14, obsidian=0, geode=0))\n",
      "14/24, len(states)=90 max = State(robots=Robots(ore=3, clay=3, obsidian=0, geode=0), resources=Resources(ore=13, clay=16, obsidian=0, geode=0))\n",
      "15/24, len(states)=121 max = State(robots=Robots(ore=3, clay=3, obsidian=1, geode=0), resources=Resources(ore=6, clay=9, obsidian=3, geode=0))\n",
      "16/24, len(states)=179 max = State(robots=Robots(ore=3, clay=6, obsidian=1, geode=0), resources=Resources(ore=7, clay=21, obsidian=2, geode=0))\n",
      "17/24, len(states)=268 max = State(robots=Robots(ore=3, clay=7, obsidian=2, geode=0), resources=Resources(ore=4, clay=14, obsidian=5, geode=0))\n",
      "18/24, len(states)=377 max = State(robots=Robots(ore=4, clay=7, obsidian=2, geode=0), resources=Resources(ore=9223372036854775806, clay=20, obsidian=6, geode=0))\n",
      "19/24, len(states)=610 max = State(robots=Robots(ore=3, clay=3, obsidian=2, geode=1), resources=Resources(ore=2, clay=14, obsidian=4, geode=1))\n",
      "20/24, len(states)=921 max = State(robots=Robots(ore=2, clay=4, obsidian=2, geode=1), resources=Resources(ore=6, clay=20, obsidian=6, geode=2))\n",
      "21/24, len(states)=1497 max = State(robots=Robots(ore=1, clay=4, obsidian=3, geode=1), resources=Resources(ore=2, clay=18, obsidian=9, geode=3))\n",
      "22/24, len(states)=2770 max = State(robots=Robots(ore=1, clay=4, obsidian=3, geode=2), resources=Resources(ore=1, clay=19, obsidian=4, geode=5))\n",
      "23/24, len(states)=5088 max = State(robots=Robots(ore=1, clay=4, obsidian=3, geode=2), resources=Resources(ore=2, clay=23, obsidian=6, geode=7))\n",
      "24/24, len(states)=9192 max = State(robots=Robots(ore=1, clay=6, obsidian=2, geode=2), resources=Resources(ore=2, clay=47, obsidian=8, geode=9))\n"
     ]
    },
    {
     "data": {
      "text/plain": [
       "State(robots=Robots(ore=1, clay=6, obsidian=2, geode=2), resources=Resources(ore=2, clay=47, obsidian=8, geode=9))"
      ]
     },
     "execution_count": 434,
     "metadata": {},
     "output_type": "execute_result"
    }
   ],
   "source": [
    "optimise(read('test')[0], 24, apply_prune=True, verbose=True)"
   ]
  },
  {
   "cell_type": "code",
   "execution_count": 435,
   "metadata": {},
   "outputs": [
    {
     "name": "stdout",
     "output_type": "stream",
     "text": [
      "1/24, len(states)=1 max = State(robots=Robots(ore=1, clay=0, obsidian=0, geode=0), resources=Resources(ore=1, clay=0, obsidian=0, geode=0))\n",
      "2/24, len(states)=1 max = State(robots=Robots(ore=1, clay=0, obsidian=0, geode=0), resources=Resources(ore=2, clay=0, obsidian=0, geode=0))\n",
      "3/24, len(states)=2 max = State(robots=Robots(ore=1, clay=0, obsidian=0, geode=0), resources=Resources(ore=3, clay=0, obsidian=0, geode=0))\n",
      "4/24, len(states)=3 max = State(robots=Robots(ore=1, clay=0, obsidian=0, geode=0), resources=Resources(ore=4, clay=0, obsidian=0, geode=0))\n",
      "5/24, len(states)=4 max = State(robots=Robots(ore=2, clay=1, obsidian=0, geode=0), resources=Resources(ore=2, clay=0, obsidian=0, geode=0))\n",
      "6/24, len(states)=7 max = State(robots=Robots(ore=1, clay=1, obsidian=0, geode=0), resources=Resources(ore=3, clay=2, obsidian=0, geode=0))\n",
      "7/24, len(states)=6 max = State(robots=Robots(ore=4, clay=1, obsidian=0, geode=0), resources=Resources(ore=9223372036854775806, clay=2, obsidian=0, geode=0))\n",
      "8/24, len(states)=11 max = State(robots=Robots(ore=4, clay=1, obsidian=0, geode=0), resources=Resources(ore=9223372036854775806, clay=3, obsidian=0, geode=0))\n",
      "9/24, len(states)=7 max = State(robots=Robots(ore=1, clay=2, obsidian=0, geode=0), resources=Resources(ore=3, clay=7, obsidian=0, geode=0))\n",
      "10/24, len(states)=8 max = State(robots=Robots(ore=4, clay=3, obsidian=0, geode=0), resources=Resources(ore=9223372036854775806, clay=7, obsidian=0, geode=0))\n",
      "11/24, len(states)=8 max = State(robots=Robots(ore=3, clay=5, obsidian=1, geode=0), resources=Resources(ore=9223372036854775806, clay=7, obsidian=0, geode=0))\n",
      "12/24, len(states)=12 max = State(robots=Robots(ore=4, clay=4, obsidian=0, geode=0), resources=Resources(ore=9223372036854775806, clay=16, obsidian=0, geode=0))\n",
      "13/24, len(states)=22 max = State(robots=Robots(ore=4, clay=5, obsidian=0, geode=0), resources=Resources(ore=9223372036854775806, clay=21, obsidian=0, geode=0))\n",
      "14/24, len(states)=26 max = State(robots=Robots(ore=4, clay=6, obsidian=1, geode=0), resources=Resources(ore=9223372036854775806, clay=21, obsidian=1, geode=0))\n",
      "15/24, len(states)=31 max = State(robots=Robots(ore=3, clay=8, obsidian=1, geode=0), resources=Resources(ore=9223372036854775806, clay=9223372036854775806, obsidian=4, geode=0))\n",
      "16/24, len(states)=32 max = State(robots=Robots(ore=4, clay=7, obsidian=2, geode=0), resources=Resources(ore=9223372036854775806, clay=28, obsidian=3, geode=0))\n",
      "17/24, len(states)=25 max = State(robots=Robots(ore=4, clay=7, obsidian=4, geode=0), resources=Resources(ore=9223372036854775806, clay=19, obsidian=6, geode=0))\n",
      "18/24, len(states)=34 max = State(robots=Robots(ore=4, clay=6, obsidian=4, geode=1), resources=Resources(ore=9223372036854775806, clay=18, obsidian=5, geode=0))\n",
      "19/24, len(states)=50 max = State(robots=Robots(ore=4, clay=8, obsidian=4, geode=1), resources=Resources(ore=9223372036854775806, clay=9223372036854775806, obsidian=9, geode=1))\n",
      "20/24, len(states)=72 max = State(robots=Robots(ore=3, clay=7, obsidian=7, geode=1), resources=Resources(ore=9223372036854775806, clay=18, obsidian=17, geode=2))\n",
      "21/24, len(states)=116 max = State(robots=Robots(ore=3, clay=8, obsidian=5, geode=2), resources=Resources(ore=9223372036854775806, clay=9223372036854775806, obsidian=11, geode=4))\n",
      "22/24, len(states)=178 max = State(robots=Robots(ore=3, clay=8, obsidian=6, geode=3), resources=Resources(ore=9223372036854775806, clay=9223372036854775806, obsidian=7, geode=6))\n",
      "23/24, len(states)=293 max = State(robots=Robots(ore=3, clay=8, obsidian=7, geode=3), resources=Resources(ore=9223372036854775806, clay=9223372036854775806, obsidian=13, geode=9))\n",
      "24/24, len(states)=425 max = State(robots=Robots(ore=3, clay=7, obsidian=7, geode=4), resources=Resources(ore=9223372036854775806, clay=45, obsidian=9, geode=12))\n"
     ]
    },
    {
     "data": {
      "text/plain": [
       "State(robots=Robots(ore=3, clay=7, obsidian=7, geode=4), resources=Resources(ore=9223372036854775806, clay=45, obsidian=9, geode=12))"
      ]
     },
     "execution_count": 435,
     "metadata": {},
     "output_type": "execute_result"
    }
   ],
   "source": [
    "optimise(read('test')[1], 24, apply_prune=True, verbose=True)"
   ]
  },
  {
   "cell_type": "code",
   "execution_count": 436,
   "metadata": {},
   "outputs": [
    {
     "name": "stdout",
     "output_type": "stream",
     "text": [
      "1 State(robots=Robots(ore=1, clay=6, obsidian=2, geode=2), resources=Resources(ore=2, clay=47, obsidian=8, geode=9))\n",
      "2 State(robots=Robots(ore=3, clay=7, obsidian=7, geode=4), resources=Resources(ore=9223372036854775806, clay=45, obsidian=9, geode=12))\n"
     ]
    },
    {
     "data": {
      "text/plain": [
       "33"
      ]
     },
     "execution_count": 436,
     "metadata": {},
     "output_type": "execute_result"
    }
   ],
   "source": [
    "tot = 0\n",
    "for idx,b in enumerate(read('test')):\n",
    "    state = optimise(b, 24, apply_prune=True, verbose=False)\n",
    "    print(idx+1, state)\n",
    "    tot += (idx+1)*state.resources.geode\n",
    "\n",
    "tot"
   ]
  },
  {
   "cell_type": "code",
   "execution_count": 437,
   "metadata": {},
   "outputs": [
    {
     "name": "stdout",
     "output_type": "stream",
     "text": [
      "1 State(robots=Robots(ore=4, clay=12, obsidian=5, geode=1), resources=Resources(ore=9223372036854775806, clay=48, obsidian=9, geode=1))\n",
      "2 State(robots=Robots(ore=3, clay=6, obsidian=1, geode=0), resources=Resources(ore=9, clay=41, obsidian=7, geode=0))\n",
      "3 State(robots=Robots(ore=2, clay=5, obsidian=2, geode=1), resources=Resources(ore=9, clay=31, obsidian=5, geode=1))\n",
      "4 State(robots=Robots(ore=3, clay=10, obsidian=5, geode=1), resources=Resources(ore=4, clay=23, obsidian=8, geode=1))\n",
      "5 State(robots=Robots(ore=4, clay=14, obsidian=2, geode=0), resources=Resources(ore=9223372036854775806, clay=104, obsidian=8, geode=0))\n",
      "6 State(robots=Robots(ore=4, clay=12, obsidian=1, geode=0), resources=Resources(ore=9223372036854775806, clay=69, obsidian=6, geode=0))\n",
      "7 State(robots=Robots(ore=4, clay=10, obsidian=3, geode=0), resources=Resources(ore=9223372036854775806, clay=47, obsidian=9, geode=0))\n",
      "8 State(robots=Robots(ore=4, clay=11, obsidian=3, geode=1), resources=Resources(ore=9223372036854775806, clay=54, obsidian=6, geode=1))\n",
      "9 State(robots=Robots(ore=2, clay=6, obsidian=5, geode=3), resources=Resources(ore=7, clay=35, obsidian=12, geode=10))\n",
      "10 State(robots=Robots(ore=3, clay=9, obsidian=3, geode=2), resources=Resources(ore=9223372036854775806, clay=55, obsidian=6, geode=5))\n",
      "11 State(robots=Robots(ore=4, clay=9, obsidian=5, geode=1), resources=Resources(ore=9223372036854775806, clay=36, obsidian=17, geode=3))\n",
      "12 State(robots=Robots(ore=4, clay=6, obsidian=7, geode=2), resources=Resources(ore=9223372036854775806, clay=9223372036854775806, obsidian=12, geode=5))\n",
      "13 State(robots=Robots(ore=3, clay=4, obsidian=7, geode=1), resources=Resources(ore=8, clay=17, obsidian=25, geode=3))\n",
      "14 State(robots=Robots(ore=4, clay=11, obsidian=3, geode=0), resources=Resources(ore=9223372036854775806, clay=50, obsidian=10, geode=0))\n",
      "15 State(robots=Robots(ore=4, clay=8, obsidian=4, geode=0), resources=Resources(ore=9223372036854775806, clay=9223372036854775806, obsidian=19, geode=0))\n",
      "16 State(robots=Robots(ore=4, clay=7, obsidian=4, geode=2), resources=Resources(ore=9223372036854775806, clay=37, obsidian=8, geode=5))\n",
      "17 State(robots=Robots(ore=2, clay=10, obsidian=7, geode=3), resources=Resources(ore=9223372036854775806, clay=20, obsidian=12, geode=9))\n",
      "18 State(robots=Robots(ore=3, clay=9, obsidian=8, geode=2), resources=Resources(ore=9223372036854775806, clay=24, obsidian=24, geode=7))\n",
      "19 State(robots=Robots(ore=4, clay=8, obsidian=3, geode=1), resources=Resources(ore=9223372036854775806, clay=42, obsidian=12, geode=3))\n",
      "20 State(robots=Robots(ore=4, clay=3, obsidian=4, geode=2), resources=Resources(ore=9223372036854775806, clay=10, obsidian=8, geode=5))\n",
      "21 State(robots=Robots(ore=3, clay=6, obsidian=3, geode=0), resources=Resources(ore=9, clay=15, obsidian=13, geode=0))\n",
      "22 State(robots=Robots(ore=4, clay=11, obsidian=3, geode=0), resources=Resources(ore=9223372036854775806, clay=40, obsidian=11, geode=0))\n",
      "23 State(robots=Robots(ore=1, clay=2, obsidian=4, geode=3), resources=Resources(ore=4, clay=17, obsidian=14, geode=15))\n",
      "24 State(robots=Robots(ore=4, clay=5, obsidian=7, geode=4), resources=Resources(ore=9223372036854775806, clay=9223372036854775806, obsidian=13, geode=13))\n",
      "25 State(robots=Robots(ore=3, clay=11, obsidian=6, geode=2), resources=Resources(ore=9223372036854775806, clay=27, obsidian=16, geode=6))\n",
      "26 State(robots=Robots(ore=4, clay=6, obsidian=8, geode=2), resources=Resources(ore=9223372036854775806, clay=9223372036854775806, obsidian=8, geode=3))\n",
      "27 State(robots=Robots(ore=4, clay=5, obsidian=7, geode=2), resources=Resources(ore=9223372036854775806, clay=9223372036854775806, obsidian=7, geode=2))\n",
      "28 State(robots=Robots(ore=4, clay=12, obsidian=1, geode=0), resources=Resources(ore=9223372036854775806, clay=69, obsidian=6, geode=0))\n",
      "29 State(robots=Robots(ore=2, clay=7, obsidian=3, geode=0), resources=Resources(ore=5, clay=20, obsidian=13, geode=0))\n",
      "30 State(robots=Robots(ore=3, clay=8, obsidian=6, geode=4), resources=Resources(ore=9223372036854775806, clay=52, obsidian=14, geode=15))\n"
     ]
    },
    {
     "data": {
      "text/plain": [
       "2193"
      ]
     },
     "execution_count": 437,
     "metadata": {},
     "output_type": "execute_result"
    }
   ],
   "source": [
    "tot = 0\n",
    "for idx,b in enumerate(read()):\n",
    "    state = optimise(b, 24, apply_prune=True, verbose=False)\n",
    "    print(idx+1, state)\n",
    "    tot += (idx+1)*state.resources.geode\n",
    "\n",
    "tot"
   ]
  },
  {
   "cell_type": "code",
   "execution_count": 456,
   "metadata": {},
   "outputs": [
    {
     "name": "stdout",
     "output_type": "stream",
     "text": [
      "1 State(robots=Robots(ore=4, clay=12, obsidian=10, geode=4), resources=Resources(ore=9223372036854775806, clay=56, obsidian=21, geode=18))\n",
      "2 State(robots=Robots(ore=4, clay=11, obsidian=7, geode=4), resources=Resources(ore=9223372036854775806, clay=30, obsidian=14, geode=16))\n",
      "3 State(robots=Robots(ore=4, clay=9, obsidian=6, geode=6), resources=Resources(ore=9223372036854775806, clay=64, obsidian=10, geode=25))\n"
     ]
    },
    {
     "data": {
      "text/plain": [
       "7200"
      ]
     },
     "execution_count": 456,
     "metadata": {},
     "output_type": "execute_result"
    }
   ],
   "source": [
    "tot = 1\n",
    "for idx,b in enumerate(read()[:3]):\n",
    "    state = optimise(b, 32, apply_prune=True, verbose=False)\n",
    "    print(idx+1, state)\n",
    "    tot *= state.resources.geode\n",
    "\n",
    "tot"
   ]
  },
  {
   "cell_type": "code",
   "execution_count": null,
   "metadata": {},
   "outputs": [],
   "source": []
  }
 ],
 "metadata": {
  "kernelspec": {
   "display_name": "Python 3.11.0 64-bit",
   "language": "python",
   "name": "python3"
  },
  "language_info": {
   "codemirror_mode": {
    "name": "ipython",
    "version": 3
   },
   "file_extension": ".py",
   "mimetype": "text/x-python",
   "name": "python",
   "nbconvert_exporter": "python",
   "pygments_lexer": "ipython3",
   "version": "3.11.0"
  },
  "orig_nbformat": 4,
  "vscode": {
   "interpreter": {
    "hash": "949777d72b0d2535278d3dc13498b2535136f6dfe0678499012e853ee9abcab1"
   }
  }
 },
 "nbformat": 4,
 "nbformat_minor": 2
}
