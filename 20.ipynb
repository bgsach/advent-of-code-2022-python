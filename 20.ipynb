{
 "cells": [
  {
   "cell_type": "code",
   "execution_count": 99,
   "metadata": {},
   "outputs": [],
   "source": [
    "from pathlib import Path\n",
    "from dataclasses import dataclass\n",
    "from collections import Counter\n",
    "import numpy as np\n",
    "import math"
   ]
  },
  {
   "cell_type": "code",
   "execution_count": 100,
   "metadata": {},
   "outputs": [],
   "source": [
    "def read(prefix='data', key=1):\n",
    "    data = Path(f'{prefix}/20.txt').read_text().rstrip().split('\\n')\n",
    "    return [(idx, int(l)*key) for idx, l in enumerate(data)]"
   ]
  },
  {
   "cell_type": "code",
   "execution_count": 101,
   "metadata": {},
   "outputs": [],
   "source": [
    "def move(A, frm, steps, verbose=False):\n",
    "    if steps < 0:\n",
    "        return move(A[::-1], len(A)-frm-1, -steps)[::-1]\n",
    "\n",
    "    if steps > len(A) - 1:\n",
    "        reps = math.floor(steps // (len(A)-1))\n",
    "        steps -= reps*(len(A)-1)\n",
    "\n",
    "\n",
    "    P = (A + A)[frm+1:][:len(A)-1]\n",
    "    return P[:steps] + [A[frm]] + P[steps:]"
   ]
  },
  {
   "cell_type": "code",
   "execution_count": 103,
   "metadata": {},
   "outputs": [],
   "source": [
    "def compute(A, verbose=False):\n",
    "    if verbose:\n",
    "        print('s', ':', 0, 0, 0, [a[1] for a in A])\n",
    "    for idx in range(len(A)):\n",
    "        frm = [p for p in enumerate(A) if p[1][0] == idx][0][0]\n",
    "        steps = A[frm][1]\n",
    "        A = move(A,frm, steps)\n",
    "        if verbose:\n",
    "            print(idx, ':', steps, frm, A[frm], [a[1] for a in A])\n",
    "    return A\n"
   ]
  },
  {
   "cell_type": "code",
   "execution_count": 104,
   "metadata": {},
   "outputs": [],
   "source": [
    "def extract_ans(A):\n",
    "    A = [a[1] for a in A]\n",
    "    idx = A.index(0)\n",
    "    an = [A[((i + idx) % len(A))] for i in [1000,2000,3000]]\n",
    "    return sum(an)"
   ]
  },
  {
   "cell_type": "code",
   "execution_count": 105,
   "metadata": {},
   "outputs": [
    {
     "data": {
      "text/plain": [
       "(3, [-2, 1, 2, -3, 4, 0, 3])"
      ]
     },
     "execution_count": 105,
     "metadata": {},
     "output_type": "execute_result"
    }
   ],
   "source": [
    "T = compute(read('test'))\n",
    "extract_ans(T), [t[1] for t in T]"
   ]
  },
  {
   "cell_type": "code",
   "execution_count": 106,
   "metadata": {},
   "outputs": [
    {
     "data": {
      "text/plain": [
       "11123"
      ]
     },
     "execution_count": 106,
     "metadata": {},
     "output_type": "execute_result"
    }
   ],
   "source": [
    "A = compute(read())\n",
    "extract_ans(A)"
   ]
  },
  {
   "cell_type": "code",
   "execution_count": 107,
   "metadata": {},
   "outputs": [
    {
     "data": {
      "text/plain": [
       "(1623178306,\n",
       " [-2434767459, 1623178306, 3246356612, -1623178306, 2434767459, 811589153, 0])"
      ]
     },
     "execution_count": 107,
     "metadata": {},
     "output_type": "execute_result"
    }
   ],
   "source": [
    "key = 811589153\n",
    "T = read('test', key=key)\n",
    "for _ in range(10):\n",
    "    T = compute(T)\n",
    "extract_ans(T), [t[1] for t in T]"
   ]
  },
  {
   "cell_type": "code",
   "execution_count": 108,
   "metadata": {},
   "outputs": [
    {
     "data": {
      "text/plain": [
       "4248669215955"
      ]
     },
     "execution_count": 108,
     "metadata": {},
     "output_type": "execute_result"
    }
   ],
   "source": [
    "key = 811589153\n",
    "A = read(key=key)\n",
    "for _ in range(10):\n",
    "    A = compute(A)\n",
    "extract_ans(A)"
   ]
  },
  {
   "cell_type": "code",
   "execution_count": null,
   "metadata": {},
   "outputs": [],
   "source": []
  }
 ],
 "metadata": {
  "kernelspec": {
   "display_name": "Python 3",
   "language": "python",
   "name": "python3"
  },
  "language_info": {
   "codemirror_mode": {
    "name": "ipython",
    "version": 3
   },
   "file_extension": ".py",
   "mimetype": "text/x-python",
   "name": "python",
   "nbconvert_exporter": "python",
   "pygments_lexer": "ipython3",
   "version": "3.11.0"
  },
  "orig_nbformat": 4,
  "vscode": {
   "interpreter": {
    "hash": "949777d72b0d2535278d3dc13498b2535136f6dfe0678499012e853ee9abcab1"
   }
  }
 },
 "nbformat": 4,
 "nbformat_minor": 2
}
