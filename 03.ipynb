{
 "cells": [
  {
   "cell_type": "code",
   "execution_count": 11,
   "metadata": {},
   "outputs": [],
   "source": [
    "from pathlib import Path\n",
    "import string"
   ]
  },
  {
   "cell_type": "code",
   "execution_count": 6,
   "metadata": {},
   "outputs": [],
   "source": [
    "data = Path(f'data/03.txt').read_text()\\\n",
    "    .split('\\n')"
   ]
  },
  {
   "cell_type": "code",
   "execution_count": 57,
   "metadata": {},
   "outputs": [],
   "source": [
    "to_int = lambda x : string.ascii_letters.index(x) + 1\n",
    "\n",
    "def func_pt1(line):\n",
    "    lst = [to_int(c) for c in line]\n",
    "    half = int(len(lst)/2)\n",
    "    left = lst[:half]\n",
    "    right = lst[half:]\n",
    "    assert len(left) == len(right)\n",
    "    inter = set(left) & set(right)\n",
    "    assert len(inter) == 1\n",
    "    return inter.pop()"
   ]
  },
  {
   "cell_type": "code",
   "execution_count": 59,
   "metadata": {},
   "outputs": [
    {
     "data": {
      "text/plain": [
       "7446"
      ]
     },
     "execution_count": 59,
     "metadata": {},
     "output_type": "execute_result"
    }
   ],
   "source": [
    "ans_pt1 = sum(func_pt1(line) for line in data)\n",
    "ans_pt1"
   ]
  },
  {
   "cell_type": "code",
   "execution_count": 60,
   "metadata": {},
   "outputs": [],
   "source": [
    "def func_pt2(la,lb,lc):\n",
    "    la = {to_int(c) for c in la}\n",
    "    lb = {to_int(c) for c in lb}\n",
    "    lc = {to_int(c) for c in lc}\n",
    "    inter = la & lb & lc\n",
    "    assert len(inter) == 1\n",
    "    return inter.pop()\n"
   ]
  },
  {
   "cell_type": "code",
   "execution_count": 62,
   "metadata": {},
   "outputs": [
    {
     "data": {
      "text/plain": [
       "2646"
      ]
     },
     "execution_count": 62,
     "metadata": {},
     "output_type": "execute_result"
    }
   ],
   "source": [
    "ans_pt2 = sum(func_pt2(data[i],data[i+1],data[i+2]) for i in range(0,len(data),3))\n",
    "ans_pt2"
   ]
  },
  {
   "cell_type": "code",
   "execution_count": null,
   "metadata": {},
   "outputs": [],
   "source": []
  }
 ],
 "metadata": {
  "kernelspec": {
   "display_name": "Python 3.11.0 64-bit",
   "language": "python",
   "name": "python3"
  },
  "language_info": {
   "codemirror_mode": {
    "name": "ipython",
    "version": 3
   },
   "file_extension": ".py",
   "mimetype": "text/x-python",
   "name": "python",
   "nbconvert_exporter": "python",
   "pygments_lexer": "ipython3",
   "version": "3.11.0"
  },
  "orig_nbformat": 4,
  "vscode": {
   "interpreter": {
    "hash": "949777d72b0d2535278d3dc13498b2535136f6dfe0678499012e853ee9abcab1"
   }
  }
 },
 "nbformat": 4,
 "nbformat_minor": 2
}
