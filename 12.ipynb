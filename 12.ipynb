{
 "cells": [
  {
   "cell_type": "code",
   "execution_count": 1,
   "metadata": {},
   "outputs": [],
   "source": [
    "from pathlib import Path\n",
    "import numpy as np"
   ]
  },
  {
   "cell_type": "code",
   "execution_count": 15,
   "metadata": {},
   "outputs": [],
   "source": [
    "def read(prefix='data'):\n",
    "    lines = Path(f'{prefix}/12.txt').read_text().rstrip().split('\\n')\n",
    "    A = np.array([[ord(l) for l in line] for line in lines], dtype=int)\n",
    "\n",
    "    s = np.where(A == ord('S'))\n",
    "    s = (s[0][0], s[1][0])\n",
    "    A[*s] = ord('a')\n",
    "\n",
    "    e = np.where(A == ord('E'))\n",
    "    e = (e[0][0], e[1][0])\n",
    "    A[*e] = ord('z')\n",
    "\n",
    "    return A, s, e"
   ]
  },
  {
   "cell_type": "code",
   "execution_count": 50,
   "metadata": {},
   "outputs": [],
   "source": [
    "in_bounds = lambda pt, sh : all(c < s and c >= 0 for c,s in zip(pt,sh))\n",
    "directions  = [(-1,0), (1,0), (0,-1), (0,1)]\n",
    "def update(A,D):\n",
    "    for to in np.ndindex(A.shape):\n",
    "        for (dx, dy) in directions:\n",
    "            frm = (to[0] + dy, to[1] + dx)\n",
    "            if in_bounds(frm, A.shape):\n",
    "                if A[*frm] + 1 >= A[*to]:\n",
    "                    D[*to] = min(D[*to], D[*frm]+1)"
   ]
  },
  {
   "cell_type": "code",
   "execution_count": 51,
   "metadata": {},
   "outputs": [],
   "source": [
    "def search(A,s,e, steps=1000):\n",
    "    D = np.full_like(A, fill_value=np.iinfo(int).max-1)\n",
    "    D[*s] = 0\n",
    "    for idx in range(steps):\n",
    "        update(A,D)\n",
    "    return D[*e]\n"
   ]
  },
  {
   "cell_type": "code",
   "execution_count": 52,
   "metadata": {},
   "outputs": [
    {
     "data": {
      "text/plain": [
       "31"
      ]
     },
     "execution_count": 52,
     "metadata": {},
     "output_type": "execute_result"
    }
   ],
   "source": [
    "search(*read('test'), steps=100)"
   ]
  },
  {
   "cell_type": "code",
   "execution_count": 55,
   "metadata": {},
   "outputs": [
    {
     "data": {
      "text/plain": [
       "408"
      ]
     },
     "execution_count": 55,
     "metadata": {},
     "output_type": "execute_result"
    }
   ],
   "source": [
    "search(*read(), steps=200)"
   ]
  },
  {
   "cell_type": "code",
   "execution_count": 62,
   "metadata": {},
   "outputs": [],
   "source": [
    "def update_back(A,D):\n",
    "    for to in np.ndindex(A.shape):\n",
    "        for (dx, dy) in directions:\n",
    "            frm = (to[0] + dy, to[1] + dx)\n",
    "            if in_bounds(frm, A.shape):\n",
    "                if A[*frm] + 1 >= A[*to]:\n",
    "                    D[*frm] = min(D[*frm], D[*to]+1)"
   ]
  },
  {
   "cell_type": "code",
   "execution_count": 80,
   "metadata": {},
   "outputs": [],
   "source": [
    "def search_back(A,e, steps=1000):\n",
    "    D = np.full_like(A, fill_value=np.iinfo(int).max-1)\n",
    "    D[*e] = 0\n",
    "    for idx in range(steps):\n",
    "        update_back(A,D)\n",
    "    return D\n"
   ]
  },
  {
   "cell_type": "code",
   "execution_count": 83,
   "metadata": {},
   "outputs": [
    {
     "data": {
      "text/plain": [
       "399"
      ]
     },
     "execution_count": 83,
     "metadata": {},
     "output_type": "execute_result"
    }
   ],
   "source": [
    "A, _, e = read()\n",
    "D = search_back(A, e, steps=500)\n",
    "min(D[*s] for s in zip(*np.where(A == ord('a'))))"
   ]
  },
  {
   "cell_type": "code",
   "execution_count": null,
   "metadata": {},
   "outputs": [],
   "source": []
  }
 ],
 "metadata": {
  "kernelspec": {
   "display_name": "Python 3.11.0 64-bit",
   "language": "python",
   "name": "python3"
  },
  "language_info": {
   "codemirror_mode": {
    "name": "ipython",
    "version": 3
   },
   "file_extension": ".py",
   "mimetype": "text/x-python",
   "name": "python",
   "nbconvert_exporter": "python",
   "pygments_lexer": "ipython3",
   "version": "3.11.0"
  },
  "orig_nbformat": 4,
  "vscode": {
   "interpreter": {
    "hash": "949777d72b0d2535278d3dc13498b2535136f6dfe0678499012e853ee9abcab1"
   }
  }
 },
 "nbformat": 4,
 "nbformat_minor": 2
}
