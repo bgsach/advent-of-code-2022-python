{
 "cells": [
  {
   "cell_type": "code",
   "execution_count": null,
   "metadata": {},
   "outputs": [],
   "source": [
    "from pathlib import Path\n",
    "import numpy as np\n",
    "from dataclasses import dataclass\n",
    "import string\n",
    "from typing import List"
   ]
  },
  {
   "cell_type": "code",
   "execution_count": null,
   "metadata": {},
   "outputs": [],
   "source": [
    "@dataclass\n",
    "class Node:\n",
    "    name : str\n",
    "    value : int\n",
    "    neighbours : List[str]"
   ]
  },
  {
   "cell_type": "code",
   "execution_count": null,
   "metadata": {},
   "outputs": [],
   "source": [
    "allowed = string.ascii_uppercase + string.digits + ' '\n",
    "\n",
    "def parse_line(line):\n",
    "    parts = ''.join([c for c in line[1:] if c in allowed]).split()\n",
    "    return Node(parts[0], int(parts[1]), parts[2:])\n",
    "\n",
    "def read(prefix='data'):\n",
    "    lines = Path(f'{prefix}/16.txt').read_text().rstrip().split('\\n')\n",
    "    nodes = [parse_line(line) for line in lines]\n",
    "    return {n.name : n for n in nodes}"
   ]
  },
  {
   "cell_type": "code",
   "execution_count": null,
   "metadata": {},
   "outputs": [],
   "source": [
    "G = read('test')"
   ]
  },
  {
   "cell_type": "code",
   "execution_count": null,
   "metadata": {},
   "outputs": [],
   "source": [
    "@dataclass\n",
    "class State:\n",
    "    openvalves : set\n",
    "    location : str\n",
    "    timeleft : int\n",
    "\n",
    "    def __hash__(self):\n",
    "        l = self.location\n",
    "        t = self.timeleft\n",
    "        ov = tuple(sorted(self.openvalves))\n",
    "        return hash((l,t, ov))"
   ]
  },
  {
   "cell_type": "code",
   "execution_count": null,
   "metadata": {},
   "outputs": [],
   "source": [
    "def moves(G, sols):\n",
    "    nw = {}\n",
    "    for sol in sols:\n",
    "        score = sols[sol]\n",
    "        if sol.timeleft > 0:\n",
    "            for nb in G[sol.location].neighbours:\n",
    "                state = State(sol.openvalves, nb, sol.timeleft-1)\n",
    "                nw[state] = max(score, nw.get(state,0))\n",
    "            if (sol.location not in sol.openvalves) and (G[sol.location].value > 0):\n",
    "                ov = sol.openvalves | {sol.location}\n",
    "                state = State(ov, sol.location, sol.timeleft - 1)\n",
    "                new_score = score + (sol.timeleft - 1)*G[sol.location].value\n",
    "                nw[state] = max(new_score, nw.get(state,0))\n",
    "    return nw"
   ]
  },
  {
   "cell_type": "code",
   "execution_count": null,
   "metadata": {},
   "outputs": [],
   "source": [
    "def get_sols(G, src, totaltime):\n",
    "    sols = {State(set(), src, totaltime) : 0}\n",
    "    for i in range(totaltime):\n",
    "        sols = moves(G,sols)\n",
    "    return sols"
   ]
  },
  {
   "cell_type": "code",
   "execution_count": null,
   "metadata": {},
   "outputs": [
    {
     "data": {
      "text/plain": [
       "(State(openvalves={'DD', 'BB', 'JJ', 'CC', 'EE', 'HH'}, location='GG', timeleft=0),\n",
       " 1651)"
      ]
     },
     "execution_count": 47,
     "metadata": {},
     "output_type": "execute_result"
    }
   ],
   "source": [
    "sols = get_sols(read('test'), 'AA', 30)\n",
    "max(sols.items(), key= lambda kv: kv[1])"
   ]
  },
  {
   "cell_type": "code",
   "execution_count": null,
   "metadata": {},
   "outputs": [
    {
     "data": {
      "text/plain": [
       "(State(openvalves={'CJ', 'KS', 'KB', 'YE', 'CU', 'AI', 'QK'}, location='YE', timeleft=0),\n",
       " 1724)"
      ]
     },
     "execution_count": 37,
     "metadata": {},
     "output_type": "execute_result"
    }
   ],
   "source": [
    "sols = get_sols(read(), 'AA', 30)\n",
    "max(sols.items(), key= lambda kv: kv[1])"
   ]
  },
  {
   "cell_type": "code",
   "execution_count": 49,
   "metadata": {},
   "outputs": [],
   "source": [
    "@dataclass\n",
    "class State2:\n",
    "    openvalves : set\n",
    "    location1 : str\n",
    "    location2 : str\n",
    "    timeleft : int\n",
    "\n",
    "    def __hash__(self):\n",
    "        l1 = self.location1\n",
    "        l2 = self.location2\n",
    "        t = self.timeleft\n",
    "        ov = tuple(sorted(self.openvalves))\n",
    "        return hash((l1, t, l2, ov))"
   ]
  },
  {
   "cell_type": "code",
   "execution_count": 118,
   "metadata": {},
   "outputs": [],
   "source": [
    "\n",
    "def moves2(G, sols):\n",
    "    nw = {}\n",
    "\n",
    "    can_turnon = lambda loc, openvalves: (loc not in openvalves) and (G[loc].value > 0)\n",
    "    for sol in sols:\n",
    "        score = sols[sol]\n",
    "        loc1 = sol.location1\n",
    "        loc2 = sol.location2\n",
    "        for nb1 in G[loc1].neighbours + [loc1]:\n",
    "            for nb2 in G[loc2].neighbours + [loc2]:\n",
    "                new_score = score\n",
    "                ov = sol.openvalves\n",
    "                if (nb1 == loc1) and can_turnon(loc1, ov):\n",
    "                    new_score = new_score + (sol.timeleft - 1)*G[loc1].value\n",
    "                    ov = ov | {loc1}\n",
    "                if (nb2 == loc2) and can_turnon(loc2, ov):\n",
    "                    new_score = new_score + (sol.timeleft - 1)*G[loc2].value   \n",
    "                    ov = ov | {loc2}\n",
    "                state = State2(ov, min(nb1, nb2), max(nb1, nb2), sol.timeleft-1)\n",
    "                nw[state] = max(new_score, nw.get(state,0))\n",
    "\n",
    "    return nw"
   ]
  },
  {
   "cell_type": "code",
   "execution_count": null,
   "metadata": {},
   "outputs": [],
   "source": []
  },
  {
   "cell_type": "code",
   "execution_count": 122,
   "metadata": {},
   "outputs": [],
   "source": [
    "def get_sols2(G, src, totaltime, top=None):\n",
    "    sols = {State2(set(), src, src, totaltime) : 0}\n",
    "    for i in range(totaltime):\n",
    "        print(f'{i}/{totaltime}, {len(sols)}')\n",
    "        sols = moves2(G,sols)\n",
    "        if top is not None:\n",
    "            sols = dict(sorted(sols.items(), key=lambda kv : -kv[1])[:top])\n",
    "    return sols"
   ]
  },
  {
   "cell_type": "code",
   "execution_count": 123,
   "metadata": {},
   "outputs": [
    {
     "name": "stdout",
     "output_type": "stream",
     "text": [
      "0/26, 1\n",
      "1/26, 10\n",
      "2/26, 43\n",
      "3/26, 142\n",
      "4/26, 355\n",
      "5/26, 691\n",
      "6/26, 1000\n",
      "7/26, 1000\n",
      "8/26, 1000\n",
      "9/26, 1000\n",
      "10/26, 1000\n",
      "11/26, 1000\n",
      "12/26, 1000\n",
      "13/26, 1000\n",
      "14/26, 1000\n",
      "15/26, 1000\n",
      "16/26, 1000\n",
      "17/26, 1000\n",
      "18/26, 1000\n",
      "19/26, 1000\n",
      "20/26, 1000\n",
      "21/26, 1000\n",
      "22/26, 1000\n",
      "23/26, 1000\n",
      "24/26, 1000\n",
      "25/26, 1000\n"
     ]
    },
    {
     "data": {
      "text/plain": [
       "(State2(openvalves={'DD', 'BB', 'JJ', 'CC', 'EE', 'HH'}, location1='DD', location2='FF', timeleft=0),\n",
       " 1707)"
      ]
     },
     "execution_count": 123,
     "metadata": {},
     "output_type": "execute_result"
    }
   ],
   "source": [
    "sols = get_sols2(read('test'), 'AA', 26, top=1000)\n",
    "max(sols.items(), key= lambda kv: kv[1])\n"
   ]
  },
  {
   "cell_type": "code",
   "execution_count": 125,
   "metadata": {},
   "outputs": [
    {
     "name": "stdout",
     "output_type": "stream",
     "text": [
      "0/26, 1\n",
      "1/26, 21\n",
      "2/26, 66\n",
      "3/26, 375\n",
      "4/26, 1000\n",
      "5/26, 1000\n",
      "6/26, 1000\n",
      "7/26, 1000\n",
      "8/26, 1000\n",
      "9/26, 1000\n",
      "10/26, 1000\n"
     ]
    },
    {
     "ename": "KeyboardInterrupt",
     "evalue": "",
     "output_type": "error",
     "traceback": [
      "\u001b[0;31m---------------------------------------------------------------------------\u001b[0m",
      "\u001b[0;31mKeyboardInterrupt\u001b[0m                         Traceback (most recent call last)",
      "Cell \u001b[0;32mIn[125], line 1\u001b[0m\n\u001b[0;32m----> 1\u001b[0m sols \u001b[39m=\u001b[39m get_sols2(read(), \u001b[39m'\u001b[39;49m\u001b[39mAA\u001b[39;49m\u001b[39m'\u001b[39;49m, \u001b[39m26\u001b[39;49m, top\u001b[39m=\u001b[39;49m\u001b[39m1000\u001b[39;49m)\n\u001b[1;32m      2\u001b[0m \u001b[39mmax\u001b[39m(sols\u001b[39m.\u001b[39mitems(), key\u001b[39m=\u001b[39m \u001b[39mlambda\u001b[39;00m kv: kv[\u001b[39m1\u001b[39m])\n",
      "Cell \u001b[0;32mIn[122], line 5\u001b[0m, in \u001b[0;36mget_sols2\u001b[0;34m(G, src, totaltime, top)\u001b[0m\n\u001b[1;32m      3\u001b[0m \u001b[39mfor\u001b[39;00m i \u001b[39min\u001b[39;00m \u001b[39mrange\u001b[39m(totaltime):\n\u001b[1;32m      4\u001b[0m     \u001b[39mprint\u001b[39m(\u001b[39mf\u001b[39m\u001b[39m'\u001b[39m\u001b[39m{\u001b[39;00mi\u001b[39m}\u001b[39;00m\u001b[39m/\u001b[39m\u001b[39m{\u001b[39;00mtotaltime\u001b[39m}\u001b[39;00m\u001b[39m, \u001b[39m\u001b[39m{\u001b[39;00m\u001b[39mlen\u001b[39m(sols)\u001b[39m}\u001b[39;00m\u001b[39m'\u001b[39m)\n\u001b[0;32m----> 5\u001b[0m     sols \u001b[39m=\u001b[39m moves2(G,sols)\n\u001b[1;32m      6\u001b[0m     \u001b[39mif\u001b[39;00m top \u001b[39mis\u001b[39;00m \u001b[39mnot\u001b[39;00m \u001b[39mNone\u001b[39;00m:\n\u001b[1;32m      7\u001b[0m         sols \u001b[39m=\u001b[39m \u001b[39mdict\u001b[39m(\u001b[39msorted\u001b[39m(sols\u001b[39m.\u001b[39mitems(), key\u001b[39m=\u001b[39m\u001b[39mlambda\u001b[39;00m kv : \u001b[39m-\u001b[39mkv[\u001b[39m1\u001b[39m])[:top])\n",
      "Cell \u001b[0;32mIn[118], line 20\u001b[0m, in \u001b[0;36mmoves2\u001b[0;34m(G, sols)\u001b[0m\n\u001b[1;32m     18\u001b[0m                 ov \u001b[39m=\u001b[39m ov \u001b[39m|\u001b[39m {loc2}\n\u001b[1;32m     19\u001b[0m             state \u001b[39m=\u001b[39m State2(ov, \u001b[39mmin\u001b[39m(nb1, nb2), \u001b[39mmax\u001b[39m(nb1, nb2), sol\u001b[39m.\u001b[39mtimeleft\u001b[39m-\u001b[39m\u001b[39m1\u001b[39m)\n\u001b[0;32m---> 20\u001b[0m             nw[state] \u001b[39m=\u001b[39m \u001b[39mmax\u001b[39m(new_score, nw\u001b[39m.\u001b[39mget(state,\u001b[39m0\u001b[39m))\n\u001b[1;32m     22\u001b[0m \u001b[39mreturn\u001b[39;00m nw\n",
      "Cell \u001b[0;32mIn[49], line 13\u001b[0m, in \u001b[0;36mState2.__hash__\u001b[0;34m(self)\u001b[0m\n\u001b[1;32m     11\u001b[0m t \u001b[39m=\u001b[39m \u001b[39mself\u001b[39m\u001b[39m.\u001b[39mtimeleft\n\u001b[1;32m     12\u001b[0m ov \u001b[39m=\u001b[39m \u001b[39mtuple\u001b[39m(\u001b[39msorted\u001b[39m(\u001b[39mself\u001b[39m\u001b[39m.\u001b[39mopenvalves))\n\u001b[0;32m---> 13\u001b[0m \u001b[39mreturn\u001b[39;00m \u001b[39mhash\u001b[39m((l1, t, l2, ov))\n",
      "\u001b[0;31mKeyboardInterrupt\u001b[0m: "
     ]
    }
   ],
   "source": [
    "sols = get_sols2(read(), 'AA', 26, top=1000)\n",
    "max(sols.items(), key= lambda kv: kv[1])\n"
   ]
  },
  {
   "cell_type": "code",
   "execution_count": null,
   "metadata": {},
   "outputs": [],
   "source": []
  }
 ],
 "metadata": {
  "kernelspec": {
   "display_name": "Python 3.11.0 64-bit",
   "language": "python",
   "name": "python3"
  },
  "language_info": {
   "codemirror_mode": {
    "name": "ipython",
    "version": 3
   },
   "file_extension": ".py",
   "mimetype": "text/x-python",
   "name": "python",
   "nbconvert_exporter": "python",
   "pygments_lexer": "ipython3",
   "version": "3.11.0"
  },
  "orig_nbformat": 4,
  "vscode": {
   "interpreter": {
    "hash": "949777d72b0d2535278d3dc13498b2535136f6dfe0678499012e853ee9abcab1"
   }
  }
 },
 "nbformat": 4,
 "nbformat_minor": 2
}
