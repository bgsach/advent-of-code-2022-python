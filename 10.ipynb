{
 "cells": [
  {
   "cell_type": "code",
   "execution_count": 1,
   "metadata": {},
   "outputs": [],
   "source": [
    "from pathlib import Path\n",
    "from dataclasses import dataclass"
   ]
  },
  {
   "cell_type": "code",
   "execution_count": 38,
   "metadata": {},
   "outputs": [],
   "source": [
    "@dataclass\n",
    "class Op:\n",
    "    inst : str\n",
    "    val : int | None = None\n",
    "\n",
    "    @classmethod\n",
    "    def fromstr(cls, s : str):\n",
    "        parts = s.split()\n",
    "        inst = parts[0]\n",
    "        if len(parts) == 2:\n",
    "            val = int(parts[1])\n",
    "        else:\n",
    "            val = None\n",
    "        return cls(inst,val)"
   ]
  },
  {
   "cell_type": "code",
   "execution_count": 83,
   "metadata": {},
   "outputs": [],
   "source": [
    "def read(prefix='data'):\n",
    "    lines = Path(f'{prefix}/10.txt').read_text().rstrip().split('\\n')\n",
    "    return [Op.fromstr(line) for line in lines]"
   ]
  },
  {
   "cell_type": "code",
   "execution_count": 186,
   "metadata": {},
   "outputs": [],
   "source": [
    "def genops(raw_ops):\n",
    "    for op in raw_ops:\n",
    "        if op.inst == 'addx':\n",
    "            yield Op('noop')\n",
    "        yield op"
   ]
  },
  {
   "cell_type": "code",
   "execution_count": 206,
   "metadata": {},
   "outputs": [],
   "source": [
    "is_interesting = lambda c: ((c-20) % 40 == 0)"
   ]
  },
  {
   "cell_type": "code",
   "execution_count": 212,
   "metadata": {},
   "outputs": [],
   "source": [
    "def computer_simp(ops):\n",
    "    X = 1\n",
    "    cycle = 1\n",
    "\n",
    "    outX = {}\n",
    "    for op in genops(ops):\n",
    "        if is_interesting(cycle):\n",
    "            outX[cycle] = X\n",
    "        if op.inst == 'addx':\n",
    "            X += op.val\n",
    "        cycle +=1\n",
    "\n",
    "    return outX\n"
   ]
  },
  {
   "cell_type": "code",
   "execution_count": 208,
   "metadata": {},
   "outputs": [],
   "source": [
    "def computer(ops):\n",
    "    X = 1\n",
    "    cycle = 1\n",
    "\n",
    "    outX = {}\n",
    "\n",
    "    interesting = set(list(range(20,2000,40)))\n",
    "    for op in ops:\n",
    "        if cycle in interesting:\n",
    "            outX[cycle] = X\n",
    "            #print('0', cycle, X, op.inst, op.val)\n",
    "        if cycle+1 in interesting:\n",
    "            outX[cycle+1] = X\n",
    "            #print('1', cycle, X, op.inst, op.val)\n",
    "        match op.inst:\n",
    "            case 'addx':\n",
    "                cycle += 2\n",
    "                X += op.val\n",
    "            case 'noop':\n",
    "                cycle += 1\n",
    "            case _:\n",
    "                raise Exception(op)\n",
    "\n",
    "\n",
    "    return outX\n"
   ]
  },
  {
   "cell_type": "code",
   "execution_count": 209,
   "metadata": {},
   "outputs": [],
   "source": [
    "test = read('test')"
   ]
  },
  {
   "cell_type": "code",
   "execution_count": 210,
   "metadata": {},
   "outputs": [
    {
     "data": {
      "text/plain": [
       "13140"
      ]
     },
     "execution_count": 210,
     "metadata": {},
     "output_type": "execute_result"
    }
   ],
   "source": [
    "Xc = computer(test).items()\n",
    "Xc\n",
    "sum(X*cycle for (cycle, X) in Xc)"
   ]
  },
  {
   "cell_type": "code",
   "execution_count": 211,
   "metadata": {},
   "outputs": [
    {
     "data": {
      "text/plain": [
       "13140"
      ]
     },
     "execution_count": 211,
     "metadata": {},
     "output_type": "execute_result"
    }
   ],
   "source": [
    "Xc = computer_simp(test).items()\n",
    "Xc\n",
    "sum(X*cycle for (cycle, X) in Xc)"
   ]
  },
  {
   "cell_type": "code",
   "execution_count": 203,
   "metadata": {},
   "outputs": [
    {
     "data": {
      "text/plain": [
       "14520"
      ]
     },
     "execution_count": 203,
     "metadata": {},
     "output_type": "execute_result"
    }
   ],
   "source": [
    "ops = read()\n",
    "Xc = computer(ops).items()\n",
    "sum(X*cycle for (cycle, X) in Xc)"
   ]
  },
  {
   "cell_type": "code",
   "execution_count": 204,
   "metadata": {},
   "outputs": [
    {
     "data": {
      "text/plain": [
       "14520"
      ]
     },
     "execution_count": 204,
     "metadata": {},
     "output_type": "execute_result"
    }
   ],
   "source": [
    "ops = read()\n",
    "Xc = computer_simp(ops).items()\n",
    "sum(X*cycle for (cycle, X) in Xc)"
   ]
  },
  {
   "cell_type": "code",
   "execution_count": 205,
   "metadata": {},
   "outputs": [],
   "source": [
    "def display(D):\n",
    "    D = ''.join(D)\n",
    "    for i in range(0, len(D), 40):\n",
    "        print(D[i:i+40])"
   ]
  },
  {
   "cell_type": "code",
   "execution_count": 183,
   "metadata": {},
   "outputs": [],
   "source": [
    "def draw(ops):\n",
    "    D = ['.' for _ in range(40*6)]\n",
    "    X = 1\n",
    "    cycle = 1\n",
    "\n",
    "    outX = {}\n",
    "\n",
    "    for op in ops:\n",
    "        col = (cycle-1) % 40\n",
    "        colnext = (cycle) % 40\n",
    "        if X in (col-1, col, col+1):\n",
    "            D[cycle-1] = '#'\n",
    "        if X in (colnext-1, colnext, colnext+1):\n",
    "            D[cycle] = '#'\n",
    "        match op.inst:\n",
    "            case 'addx':\n",
    "                cycle += 2\n",
    "                X += op.val\n",
    "            case 'noop':\n",
    "                cycle += 1\n",
    "            case _:\n",
    "                raise Exception(op)\n",
    "\n",
    "\n",
    "    return D\n"
   ]
  },
  {
   "cell_type": "code",
   "execution_count": 184,
   "metadata": {},
   "outputs": [
    {
     "name": "stdout",
     "output_type": "stream",
     "text": [
      "##..##..##..##..##..##..##..##..##..##..\n",
      "###...###...###...###...###...###...###.\n",
      "####....####....####....####....####....\n",
      "#####.....#####.....#####.....#####.....\n",
      "######......######......######......####\n",
      "#######.......#######.......#######.....\n"
     ]
    }
   ],
   "source": [
    "display(draw(test))"
   ]
  },
  {
   "cell_type": "code",
   "execution_count": 185,
   "metadata": {},
   "outputs": [
    {
     "name": "stdout",
     "output_type": "stream",
     "text": [
      "###..####.###...##..####.####...##.###..\n",
      "#..#....#.#..#.#..#....#.#.......#.#..#.\n",
      "#..#...#..###..#......#..###.....#.###..\n",
      "###...#...#..#.#.##..#...#.......#.#..#.\n",
      "#....#....#..#.#..#.#....#....#..#.#..#.\n",
      "#....####.###...###.####.####..##..###..\n"
     ]
    }
   ],
   "source": [
    "display(draw(ops))"
   ]
  },
  {
   "cell_type": "code",
   "execution_count": 176,
   "metadata": {},
   "outputs": [
    {
     "data": {
      "text/plain": [
       "'PZBGZEJB'"
      ]
     },
     "execution_count": 176,
     "metadata": {},
     "output_type": "execute_result"
    }
   ],
   "source": [
    "'PZBGZEJB'"
   ]
  }
 ],
 "metadata": {
  "kernelspec": {
   "display_name": "Python 3.11.0 64-bit",
   "language": "python",
   "name": "python3"
  },
  "language_info": {
   "codemirror_mode": {
    "name": "ipython",
    "version": 3
   },
   "file_extension": ".py",
   "mimetype": "text/x-python",
   "name": "python",
   "nbconvert_exporter": "python",
   "pygments_lexer": "ipython3",
   "version": "3.11.0"
  },
  "orig_nbformat": 4,
  "vscode": {
   "interpreter": {
    "hash": "949777d72b0d2535278d3dc13498b2535136f6dfe0678499012e853ee9abcab1"
   }
  }
 },
 "nbformat": 4,
 "nbformat_minor": 2
}
