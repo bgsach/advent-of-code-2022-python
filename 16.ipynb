{
 "cells": [
  {
   "cell_type": "code",
   "execution_count": 2,
   "metadata": {},
   "outputs": [],
   "source": [
    "from pathlib import Path\n",
    "import numpy as np\n",
    "from dataclasses import dataclass\n",
    "import string\n",
    "from typing import List, Self"
   ]
  },
  {
   "cell_type": "code",
   "execution_count": 3,
   "metadata": {},
   "outputs": [
    {
     "data": {
      "text/plain": [
       "'ABCDEFGHIJKLMNOPQRSTUVWXYZ'"
      ]
     },
     "execution_count": 3,
     "metadata": {},
     "output_type": "execute_result"
    }
   ],
   "source": [
    "string.ascii_uppercase"
   ]
  },
  {
   "cell_type": "code",
   "execution_count": 4,
   "metadata": {},
   "outputs": [],
   "source": [
    "@dataclass\n",
    "class Node:\n",
    "    name : str\n",
    "    value : int\n",
    "    neighbours : List[str]"
   ]
  },
  {
   "cell_type": "code",
   "execution_count": 5,
   "metadata": {},
   "outputs": [],
   "source": [
    "allowed = string.ascii_uppercase + string.digits + ' '\n",
    "\n",
    "def parse_line(line):\n",
    "    parts = ''.join([c for c in line[1:] if c in allowed]).split()\n",
    "    return Node(parts[0], int(parts[1]), parts[2:])\n",
    "\n",
    "def read(prefix='data'):\n",
    "    lines = Path(f'{prefix}/16.txt').read_text().rstrip().split('\\n')\n",
    "    nodes = [parse_line(line) for line in lines]\n",
    "    return {n.name : n for n in nodes}"
   ]
  },
  {
   "cell_type": "code",
   "execution_count": 6,
   "metadata": {},
   "outputs": [],
   "source": [
    "G = read('test')"
   ]
  },
  {
   "cell_type": "code",
   "execution_count": 7,
   "metadata": {},
   "outputs": [],
   "source": [
    "@dataclass\n",
    "class State:\n",
    "    openvalves : set\n",
    "    location : str\n",
    "    timeleft : int\n",
    "\n",
    "    def __hash__(self):\n",
    "        l = self.location\n",
    "        t = self.timeleft\n",
    "        ov = tuple(sorted(self.openvalves))\n",
    "        return hash((l,t, ov))"
   ]
  },
  {
   "cell_type": "code",
   "execution_count": 33,
   "metadata": {},
   "outputs": [],
   "source": [
    "def moves(G, sols):\n",
    "    nw = {}\n",
    "    for sol in sols:\n",
    "        score = sols[sol]\n",
    "        if sol.timeleft > 0:\n",
    "            for nb in G[sol.location].neighbours:\n",
    "                state = State(sol.openvalves, nb, sol.timeleft-1)\n",
    "                nw[state] = max(score, nw.get(state,0))\n",
    "            if (sol.location not in sol.openvalves) and (G[sol.location].value > 0):\n",
    "                ov = sol.openvalves | {sol.location}\n",
    "                state = State(ov, sol.location, sol.timeleft - 1)\n",
    "                new_score = score + (sol.timeleft - 1)*G[sol.location].value\n",
    "                nw[state] = max(new_score, nw.get(state,0))\n",
    "    return nw"
   ]
  },
  {
   "cell_type": "code",
   "execution_count": 34,
   "metadata": {},
   "outputs": [],
   "source": [
    "def get_sols(G, src, totaltime):\n",
    "    src = State(set(), src, totaltime)\n",
    "    nw = {src : 0}\n",
    "    sols = {src : 0}\n",
    "    old_len = 0\n",
    "    for i in range(totaltime):\n",
    "    # while len(sols) > old_len:\n",
    "        nw = moves(G,sols)\n",
    "        old_len = len(sols)\n",
    "        for state in nw:\n",
    "            sols[state] = max(nw[state], sols.get(state,0))\n",
    "        print(len(sols))\n",
    "    return sols"
   ]
  },
  {
   "cell_type": "code",
   "execution_count": 35,
   "metadata": {},
   "outputs": [
    {
     "name": "stdout",
     "output_type": "stream",
     "text": [
      "4\n",
      "10\n",
      "22\n",
      "42\n",
      "73\n",
      "120\n",
      "186\n",
      "273\n",
      "382\n",
      "513\n",
      "667\n",
      "847\n",
      "1053\n",
      "1281\n",
      "1528\n",
      "1792\n",
      "2072\n",
      "2368\n",
      "2678\n",
      "2996\n",
      "3316\n",
      "3636\n",
      "3956\n",
      "4276\n",
      "4596\n",
      "4916\n",
      "5236\n",
      "5556\n",
      "5876\n",
      "6196\n",
      "6196\n"
     ]
    },
    {
     "data": {
      "text/plain": [
       "(State(openvalves={'HH', 'JJ', 'DD', 'CC', 'EE', 'BB'}, location='CC', timeleft=6),\n",
       " 1651)"
      ]
     },
     "execution_count": 35,
     "metadata": {},
     "output_type": "execute_result"
    }
   ],
   "source": [
    "sols = get_sols(read('test'), 'AA', 30)\n",
    "max(sols.items(), key= lambda kv: kv[1])"
   ]
  },
  {
   "cell_type": "code",
   "execution_count": 36,
   "metadata": {},
   "outputs": [
    {
     "name": "stdout",
     "output_type": "stream",
     "text": [
      "6\n",
      "12\n",
      "33\n",
      "69\n",
      "125\n",
      "230\n",
      "404\n",
      "697\n",
      "1151\n",
      "1850\n",
      "2896\n",
      "4439\n",
      "6698\n",
      "9840\n",
      "14205\n",
      "20327\n",
      "28649\n",
      "39772\n",
      "54571\n",
      "73818\n",
      "98543\n",
      "130385\n",
      "170997\n",
      "222118\n",
      "286121\n",
      "365687\n",
      "463203\n",
      "581662\n",
      "725243\n",
      "898184\n",
      "898184\n"
     ]
    },
    {
     "data": {
      "text/plain": [
       "(State(openvalves={'AI', 'CU', 'YE', 'QK', 'KS', 'CJ', 'KB'}, location='YE', timeleft=6),\n",
       " 1724)"
      ]
     },
     "execution_count": 36,
     "metadata": {},
     "output_type": "execute_result"
    }
   ],
   "source": [
    "sols = get_sols(read(), 'AA', 30)\n",
    "max(sols.items(), key= lambda kv: kv[1])"
   ]
  },
  {
   "cell_type": "code",
   "execution_count": null,
   "metadata": {},
   "outputs": [],
   "source": []
  }
 ],
 "metadata": {
  "kernelspec": {
   "display_name": "Python 3.11.0 64-bit",
   "language": "python",
   "name": "python3"
  },
  "language_info": {
   "codemirror_mode": {
    "name": "ipython",
    "version": 3
   },
   "file_extension": ".py",
   "mimetype": "text/x-python",
   "name": "python",
   "nbconvert_exporter": "python",
   "pygments_lexer": "ipython3",
   "version": "3.11.0"
  },
  "orig_nbformat": 4,
  "vscode": {
   "interpreter": {
    "hash": "949777d72b0d2535278d3dc13498b2535136f6dfe0678499012e853ee9abcab1"
   }
  }
 },
 "nbformat": 4,
 "nbformat_minor": 2
}
