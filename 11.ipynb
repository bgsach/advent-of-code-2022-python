{
 "cells": [
  {
   "cell_type": "code",
   "execution_count": 62,
   "metadata": {},
   "outputs": [],
   "source": [
    "from pathlib import Path\n",
    "import math"
   ]
  },
  {
   "cell_type": "code",
   "execution_count": 129,
   "metadata": {},
   "outputs": [],
   "source": [
    "\n",
    "class Monkey:\n",
    "    def __init__(self, s : str):\n",
    "        parts = s.split('\\n')\n",
    "        items_str = parts[1].split(':')[-1].strip().split(',')\n",
    "        self.items = [int(i) for i in items_str]\n",
    "        self.op = parts[2].split(\"=\")[1].strip()\n",
    "        self.test = int(parts[3].split()[-1])\n",
    "        self.throw_T =  int(parts[4].split()[-1])\n",
    "        self.throw_F =  int(parts[5].split()[-1])\n",
    "        self.inspected = 0\n",
    "\n",
    "    def _apply_op(self, old):\n",
    "        return eval(self.op)\n",
    "\n",
    "    def _process_item(self, old, mx=None):\n",
    "        new = self._apply_op(old)\n",
    "        if mx is None:\n",
    "            new = new//3\n",
    "        else:\n",
    "            new = new % mx\n",
    "\n",
    "        if (new % self.test) == 0:\n",
    "            to = self.throw_T \n",
    "        else:\n",
    "            to = self.throw_F\n",
    "\n",
    "        self.inspected +=1\n",
    "        return (to, new)\n",
    "\n",
    "    def turn(self, mx=None):\n",
    "        itemsto = [self._process_item(item, mx=mx) for item in self.items]\n",
    "        self.items = []\n",
    "        return itemsto\n",
    "\n",
    "    def give(self, item):\n",
    "        self.items.append(item)\n",
    "\n",
    "        "
   ]
  },
  {
   "cell_type": "code",
   "execution_count": 138,
   "metadata": {},
   "outputs": [],
   "source": [
    "def round(monkeys, mx=None):\n",
    "    for monkey in monkeys:\n",
    "        for (to, item) in monkey.turn(mx=mx):\n",
    "            monkeys[to].give(item)"
   ]
  },
  {
   "cell_type": "code",
   "execution_count": 139,
   "metadata": {},
   "outputs": [],
   "source": [
    "def read(prefix='data'):\n",
    "    lines = Path(f'{prefix}/11.txt').read_text().rstrip().split('\\n\\n')\n",
    "    return lines"
   ]
  },
  {
   "cell_type": "code",
   "execution_count": 140,
   "metadata": {},
   "outputs": [
    {
     "data": {
      "text/plain": [
       "58794"
      ]
     },
     "execution_count": 140,
     "metadata": {},
     "output_type": "execute_result"
    }
   ],
   "source": [
    "monkeys = [Monkey(line) for line in read()]\n",
    "for i in range(20):\n",
    "    round(monkeys)\n",
    "S = sorted([m.inspected for m in monkeys],reverse=True)\n",
    "S[0]*S[1]"
   ]
  },
  {
   "cell_type": "code",
   "execution_count": 141,
   "metadata": {},
   "outputs": [
    {
     "data": {
      "text/plain": [
       "10605"
      ]
     },
     "execution_count": 141,
     "metadata": {},
     "output_type": "execute_result"
    }
   ],
   "source": [
    "monkeys = [Monkey(line) for line in read('test')]\n",
    "for i in range(20):\n",
    "    round(monkeys, mx=None)\n",
    "S = sorted([m.inspected for m in monkeys],reverse=True)\n",
    "S[0]*S[1]"
   ]
  },
  {
   "cell_type": "code",
   "execution_count": 143,
   "metadata": {},
   "outputs": [
    {
     "data": {
      "text/plain": [
       "2713310158"
      ]
     },
     "execution_count": 143,
     "metadata": {},
     "output_type": "execute_result"
    }
   ],
   "source": [
    "monkeys = [Monkey(line) for line in read('test')]\n",
    "mx = math.prod(m.test for m in monkeys)\n",
    "for i in range(10000):\n",
    "    round(monkeys, mx=mx)\n",
    "S = sorted([m.inspected for m in monkeys],reverse=True)\n",
    "S[0]*S[1]\n",
    "#[m.inspected for m in monkeys]"
   ]
  },
  {
   "cell_type": "code",
   "execution_count": 144,
   "metadata": {},
   "outputs": [
    {
     "data": {
      "text/plain": [
       "20151213744"
      ]
     },
     "execution_count": 144,
     "metadata": {},
     "output_type": "execute_result"
    }
   ],
   "source": [
    "monkeys = [Monkey(line) for line in read()]\n",
    "mx = math.prod(m.test for m in monkeys)\n",
    "for i in range(10000):\n",
    "    round(monkeys, mx=mx)\n",
    "S = sorted([m.inspected for m in monkeys],reverse=True)\n",
    "S[0]*S[1]\n",
    "#[m.inspected for m in monkeys]"
   ]
  },
  {
   "cell_type": "code",
   "execution_count": null,
   "metadata": {},
   "outputs": [],
   "source": []
  }
 ],
 "metadata": {
  "kernelspec": {
   "display_name": "Python 3.11.0 64-bit",
   "language": "python",
   "name": "python3"
  },
  "language_info": {
   "codemirror_mode": {
    "name": "ipython",
    "version": 3
   },
   "file_extension": ".py",
   "mimetype": "text/x-python",
   "name": "python",
   "nbconvert_exporter": "python",
   "pygments_lexer": "ipython3",
   "version": "3.11.0"
  },
  "orig_nbformat": 4,
  "vscode": {
   "interpreter": {
    "hash": "949777d72b0d2535278d3dc13498b2535136f6dfe0678499012e853ee9abcab1"
   }
  }
 },
 "nbformat": 4,
 "nbformat_minor": 2
}
