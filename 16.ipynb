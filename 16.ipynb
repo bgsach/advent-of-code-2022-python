{
 "cells": [
  {
   "cell_type": "code",
   "execution_count": 1,
   "metadata": {},
   "outputs": [],
   "source": [
    "from pathlib import Path\n",
    "import numpy as np\n",
    "from dataclasses import dataclass\n",
    "import string\n",
    "from typing import List"
   ]
  },
  {
   "cell_type": "code",
   "execution_count": 2,
   "metadata": {},
   "outputs": [],
   "source": [
    "@dataclass\n",
    "class Node:\n",
    "    name : str\n",
    "    value : int\n",
    "    neighbours : List[str]"
   ]
  },
  {
   "cell_type": "code",
   "execution_count": 3,
   "metadata": {},
   "outputs": [],
   "source": [
    "allowed = string.ascii_uppercase + string.digits + ' '\n",
    "\n",
    "def parse_line(line):\n",
    "    parts = ''.join([c for c in line[1:] if c in allowed]).split()\n",
    "    return Node(parts[0], int(parts[1]), parts[2:])\n",
    "\n",
    "def read(prefix='data'):\n",
    "    lines = Path(f'{prefix}/16.txt').read_text().rstrip().split('\\n')\n",
    "    nodes = [parse_line(line) for line in lines]\n",
    "    return {n.name : n for n in nodes}"
   ]
  },
  {
   "cell_type": "code",
   "execution_count": 9,
   "metadata": {},
   "outputs": [],
   "source": [
    "@dataclass\n",
    "class State:\n",
    "    openvalves : set\n",
    "    location : str\n",
    "    timeleft : int\n",
    "\n",
    "    def __hash__(self):\n",
    "        l = self.location\n",
    "        t = self.timeleft\n",
    "        ov = tuple(sorted(self.openvalves))\n",
    "        return hash((l,t, ov))"
   ]
  },
  {
   "cell_type": "code",
   "execution_count": 10,
   "metadata": {},
   "outputs": [],
   "source": [
    "def moves(G, sols):\n",
    "    nw = {}\n",
    "    for sol in sols:\n",
    "        score = sols[sol]\n",
    "        if sol.timeleft > 0:\n",
    "            for nb in G[sol.location].neighbours:\n",
    "                state = State(sol.openvalves, nb, sol.timeleft-1)\n",
    "                nw[state] = max(score, nw.get(state,0))\n",
    "            if (sol.location not in sol.openvalves) and (G[sol.location].value > 0):\n",
    "                ov = sol.openvalves | {sol.location}\n",
    "                state = State(ov, sol.location, sol.timeleft - 1)\n",
    "                new_score = score + (sol.timeleft - 1)*G[sol.location].value\n",
    "                nw[state] = max(new_score, nw.get(state,0))\n",
    "    return nw"
   ]
  },
  {
   "cell_type": "code",
   "execution_count": 11,
   "metadata": {},
   "outputs": [],
   "source": [
    "def get_sols(G, src, totaltime):\n",
    "    sols = {State(set(), src, totaltime) : 0}\n",
    "    for i in range(totaltime):\n",
    "        sols = moves(G,sols)\n",
    "    return sols"
   ]
  },
  {
   "cell_type": "code",
   "execution_count": 12,
   "metadata": {},
   "outputs": [
    {
     "data": {
      "text/plain": [
       "(State(openvalves={'EE', 'BB', 'HH', 'CC', 'DD', 'JJ'}, location='GG', timeleft=0),\n",
       " 1651)"
      ]
     },
     "execution_count": 12,
     "metadata": {},
     "output_type": "execute_result"
    }
   ],
   "source": [
    "sols = get_sols(read('test'), 'AA', 30)\n",
    "max(sols.items(), key= lambda kv: kv[1])"
   ]
  },
  {
   "cell_type": "code",
   "execution_count": 13,
   "metadata": {},
   "outputs": [
    {
     "data": {
      "text/plain": [
       "(State(openvalves={'KB', 'AI', 'KS', 'CU', 'YE', 'QK', 'CJ'}, location='YE', timeleft=0),\n",
       " 1724)"
      ]
     },
     "execution_count": 13,
     "metadata": {},
     "output_type": "execute_result"
    }
   ],
   "source": [
    "sols = get_sols(read(), 'AA', 30)\n",
    "max(sols.items(), key= lambda kv: kv[1])"
   ]
  },
  {
   "cell_type": "code",
   "execution_count": 14,
   "metadata": {},
   "outputs": [],
   "source": [
    "@dataclass\n",
    "class State2:\n",
    "    openvalves : set\n",
    "    location1 : str\n",
    "    location2 : str\n",
    "    timeleft : int\n",
    "\n",
    "    def __hash__(self):\n",
    "        l1 = self.location1\n",
    "        l2 = self.location2\n",
    "        t = self.timeleft\n",
    "        ov = tuple(sorted(self.openvalves))\n",
    "        return hash((l1, t, l2, ov))"
   ]
  },
  {
   "cell_type": "code",
   "execution_count": 15,
   "metadata": {},
   "outputs": [],
   "source": [
    "\n",
    "def moves2(G, sols):\n",
    "    nw = {}\n",
    "\n",
    "    can_turnon = lambda loc, openvalves: (loc not in openvalves) and (G[loc].value > 0)\n",
    "    for sol in sols:\n",
    "        score = sols[sol]\n",
    "        loc1 = sol.location1\n",
    "        loc2 = sol.location2\n",
    "        for nb1 in G[loc1].neighbours + [loc1]:\n",
    "            for nb2 in G[loc2].neighbours + [loc2]:\n",
    "                new_score = score\n",
    "                ov = sol.openvalves\n",
    "                if (nb1 == loc1) and can_turnon(loc1, ov):\n",
    "                    new_score = new_score + (sol.timeleft - 1)*G[loc1].value\n",
    "                    ov = ov | {loc1}\n",
    "                if (nb2 == loc2) and can_turnon(loc2, ov):\n",
    "                    new_score = new_score + (sol.timeleft - 1)*G[loc2].value   \n",
    "                    ov = ov | {loc2}\n",
    "                state = State2(ov, min(nb1, nb2), max(nb1, nb2), sol.timeleft-1)\n",
    "                nw[state] = max(new_score, nw.get(state,0))\n",
    "\n",
    "    return nw"
   ]
  },
  {
   "cell_type": "code",
   "execution_count": 48,
   "metadata": {},
   "outputs": [],
   "source": [
    "def max_remaining_score(G, sol):\n",
    "    closedvalves = set(G.keys()) - set(sol.openvalves)\n",
    "    vals = sorted([G[v].value for v in closedvalves], reverse=True)\n",
    "    score = sum(t*v for (v,t) in zip(vals, range(sol.timeleft-1,0,-1)))\n",
    "    return max(score,0)"
   ]
  },
  {
   "cell_type": "code",
   "execution_count": 49,
   "metadata": {},
   "outputs": [],
   "source": [
    "def prune(G, sols, top=None):\n",
    "    mx_score = max(sols.values())\n",
    "    pruned = {}\n",
    "    for (sol, score) in sols.items():\n",
    "        if score + max_remaining_score(G, sol) >= mx_score:\n",
    "            pruned[sol] = score\n",
    "    if top is not None:\n",
    "        pruned = dict(sorted(pruned.items(), key = lambda kv : -kv[1])[:top])\n",
    "    return pruned"
   ]
  },
  {
   "cell_type": "code",
   "execution_count": 50,
   "metadata": {},
   "outputs": [],
   "source": [
    "def get_sols2(G, src, totaltime, top=None, verbose=False):\n",
    "    sols = {State2(set(), src, src, totaltime) : 0}\n",
    "    for i in range(totaltime):\n",
    "        if verbose:\n",
    "            print(f'{i}/{totaltime}, {len(sols)}')\n",
    "        sols = moves2(G,sols)\n",
    "        sols = prune(G,sols, top)\n",
    "\n",
    "    return sols"
   ]
  },
  {
   "cell_type": "code",
   "execution_count": 51,
   "metadata": {},
   "outputs": [
    {
     "data": {
      "text/plain": [
       "1707"
      ]
     },
     "execution_count": 51,
     "metadata": {},
     "output_type": "execute_result"
    }
   ],
   "source": [
    "sols = get_sols2(read('test'), 'AA', 26, top=1000)\n",
    "max(sols.values())\n"
   ]
  },
  {
   "cell_type": "code",
   "execution_count": 53,
   "metadata": {},
   "outputs": [
    {
     "name": "stdout",
     "output_type": "stream",
     "text": [
      "0/26, 1\n",
      "1/26, 21\n",
      "2/26, 66\n",
      "3/26, 375\n",
      "4/26, 1430\n",
      "5/26, 3481\n",
      "6/26, 8513\n",
      "7/26, 20157\n",
      "8/26, 44539\n",
      "9/26, 89904\n",
      "10/26, 100000\n",
      "11/26, 100000\n"
     ]
    }
   ],
   "source": [
    "sols = get_sols2(read(), 'AA', 26, top=1000, verbose=True)\n",
    "max(sols.values())\n"
   ]
  },
  {
   "cell_type": "code",
   "execution_count": null,
   "metadata": {},
   "outputs": [],
   "source": []
  }
 ],
 "metadata": {
  "kernelspec": {
   "display_name": "Python 3.11.0 64-bit",
   "language": "python",
   "name": "python3"
  },
  "language_info": {
   "codemirror_mode": {
    "name": "ipython",
    "version": 3
   },
   "file_extension": ".py",
   "mimetype": "text/x-python",
   "name": "python",
   "nbconvert_exporter": "python",
   "pygments_lexer": "ipython3",
   "version": "3.11.0"
  },
  "orig_nbformat": 4,
  "vscode": {
   "interpreter": {
    "hash": "949777d72b0d2535278d3dc13498b2535136f6dfe0678499012e853ee9abcab1"
   }
  }
 },
 "nbformat": 4,
 "nbformat_minor": 2
}
