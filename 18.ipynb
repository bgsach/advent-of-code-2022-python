{
 "cells": [
  {
   "cell_type": "code",
   "execution_count": 9,
   "metadata": {},
   "outputs": [],
   "source": [
    "from pathlib import Path\n",
    "import numpy as np"
   ]
  },
  {
   "cell_type": "code",
   "execution_count": 104,
   "metadata": {},
   "outputs": [],
   "source": [
    "def read(prefix='data'):\n",
    "    data = Path(f'{prefix}/18.txt').read_text().rstrip().split()\n",
    "    data = np.array([tuple(map(int,l.split(','))) for l in data])\n",
    "    shape = data.max(axis=0) + 3\n",
    "    B = np.zeros(shape, dtype=int)\n",
    "    for d in data:\n",
    "        B[*(d +1)] = 1\n",
    "    return B"
   ]
  },
  {
   "cell_type": "code",
   "execution_count": 152,
   "metadata": {},
   "outputs": [],
   "source": [
    "def surface_area(B, v=0):\n",
    "    tot = 0\n",
    "    for iz, iy, ix in np.ndindex(B.shape):\n",
    "        if B[iz,iy,ix] == 1:\n",
    "            for d in [-1,1]:\n",
    "                tot += int((B[iz+d,iy,ix] == v))\n",
    "                tot += int((B[iz,iy+d,ix] == v))\n",
    "                tot += int((B[iz,iy,ix+d] == v))\n",
    "    return tot"
   ]
  },
  {
   "cell_type": "code",
   "execution_count": 153,
   "metadata": {},
   "outputs": [
    {
     "data": {
      "text/plain": [
       "64"
      ]
     },
     "execution_count": 153,
     "metadata": {},
     "output_type": "execute_result"
    }
   ],
   "source": [
    "surface_area(read('test'))"
   ]
  },
  {
   "cell_type": "code",
   "execution_count": 154,
   "metadata": {},
   "outputs": [
    {
     "data": {
      "text/plain": [
       "3448"
      ]
     },
     "execution_count": 154,
     "metadata": {},
     "output_type": "execute_result"
    }
   ],
   "source": [
    "surface_area(read())"
   ]
  },
  {
   "cell_type": "code",
   "execution_count": 155,
   "metadata": {},
   "outputs": [],
   "source": [
    "in_bounds = lambda pt, sh : all(c < s and c >= 0 for c,s in zip(pt,sh))"
   ]
  },
  {
   "cell_type": "code",
   "execution_count": 156,
   "metadata": {},
   "outputs": [],
   "source": [
    "def expand(B):\n",
    "    for iz, iy, ix in np.ndindex(B.shape):\n",
    "        if B[iz,iy,ix] == 2:\n",
    "            for d in [-1,1]:\n",
    "                for pt in [(iz+d, iy, ix), (iz, iy+d, ix), (iz, iy, ix+d)]:\n",
    "                    if in_bounds(pt, B.shape) and (B[*pt] == 0):\n",
    "                        B[*pt] = 2\n"
   ]
  },
  {
   "cell_type": "code",
   "execution_count": 157,
   "metadata": {},
   "outputs": [],
   "source": [
    "def expand_all(B):\n",
    "    lastsum = -1\n",
    "    B[1,1,1] = 2\n",
    "    while B.sum() != lastsum:\n",
    "        lastsum = B.sum()\n",
    "        expand(B)\n",
    "\n",
    "    return B"
   ]
  },
  {
   "cell_type": "code",
   "execution_count": 158,
   "metadata": {},
   "outputs": [
    {
     "data": {
      "text/plain": [
       "58"
      ]
     },
     "execution_count": 158,
     "metadata": {},
     "output_type": "execute_result"
    }
   ],
   "source": [
    "B = expand_all(read('test'))\n",
    "surface_area(B, v=2)\n"
   ]
  },
  {
   "cell_type": "code",
   "execution_count": 159,
   "metadata": {},
   "outputs": [
    {
     "data": {
      "text/plain": [
       "2052"
      ]
     },
     "execution_count": 159,
     "metadata": {},
     "output_type": "execute_result"
    }
   ],
   "source": [
    "B = expand_all(read())\n",
    "surface_area(B, v=2)"
   ]
  }
 ],
 "metadata": {
  "kernelspec": {
   "display_name": "Python 3.11.0 64-bit",
   "language": "python",
   "name": "python3"
  },
  "language_info": {
   "codemirror_mode": {
    "name": "ipython",
    "version": 3
   },
   "file_extension": ".py",
   "mimetype": "text/x-python",
   "name": "python",
   "nbconvert_exporter": "python",
   "pygments_lexer": "ipython3",
   "version": "3.11.0"
  },
  "orig_nbformat": 4,
  "vscode": {
   "interpreter": {
    "hash": "949777d72b0d2535278d3dc13498b2535136f6dfe0678499012e853ee9abcab1"
   }
  }
 },
 "nbformat": 4,
 "nbformat_minor": 2
}
