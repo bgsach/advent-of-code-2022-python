{
 "cells": [
  {
   "cell_type": "code",
   "execution_count": 15,
   "metadata": {},
   "outputs": [],
   "source": [
    "from pathlib import Path\n",
    "from dataclasses import dataclass"
   ]
  },
  {
   "cell_type": "code",
   "execution_count": 98,
   "metadata": {},
   "outputs": [],
   "source": [
    "def to_move(line):\n",
    "    (d,i) = line.split()\n",
    "    return (d, int(i))\n",
    "\n",
    "def read():\n",
    "    lines = Path(f'data/09.txt').read_text().rstrip().split('\\n')\n",
    "    return [to_move(line) for line in lines]"
   ]
  },
  {
   "cell_type": "code",
   "execution_count": 99,
   "metadata": {},
   "outputs": [],
   "source": [
    "moves = read()"
   ]
  },
  {
   "cell_type": "code",
   "execution_count": 117,
   "metadata": {},
   "outputs": [],
   "source": [
    "test = '''\n",
    "R 4\n",
    "U 4\n",
    "L 3\n",
    "D 1\n",
    "R 4\n",
    "D 1\n",
    "L 5\n",
    "R 2\n",
    "'''\n",
    "test = [to_move(line) for line in test[1:].rstrip().split('\\n')]"
   ]
  },
  {
   "cell_type": "code",
   "execution_count": 119,
   "metadata": {},
   "outputs": [],
   "source": [
    "@dataclass\n",
    "class Point:\n",
    "    x : int = 0\n",
    "    y : int = 0"
   ]
  },
  {
   "cell_type": "code",
   "execution_count": 120,
   "metadata": {},
   "outputs": [],
   "source": [
    "def sgn(x):\n",
    "    if x == 0:\n",
    "        return 0\n",
    "    elif x > 0:\n",
    "        return 1\n",
    "    else:\n",
    "        return -1"
   ]
  },
  {
   "cell_type": "code",
   "execution_count": 121,
   "metadata": {},
   "outputs": [],
   "source": [
    "def move(p : Point, d : str):\n",
    "    match d:\n",
    "        case 'D':\n",
    "            p.y -=1\n",
    "        case 'U':\n",
    "            p.y +=1\n",
    "        case 'L':\n",
    "            p.x -=1\n",
    "        case 'R':\n",
    "            p.x +=1\n",
    "        case '_':\n",
    "            raise Exception('move not known')"
   ]
  },
  {
   "cell_type": "code",
   "execution_count": 122,
   "metadata": {},
   "outputs": [],
   "source": [
    "def is_touching(h, t):\n",
    "    dx = h.x - t.x\n",
    "    dy = h.y - t.y\n",
    "    return (abs(dx) < 2) & (abs(dy) < 2)"
   ]
  },
  {
   "cell_type": "code",
   "execution_count": 123,
   "metadata": {},
   "outputs": [],
   "source": [
    "def chase(h : Point, t: Point):\n",
    "    dx = h.x - t.x\n",
    "    dy = h.y - t.y\n",
    "\n",
    "    t.y += sgn(dy)\n",
    "    t.x += sgn(dx)"
   ]
  },
  {
   "cell_type": "code",
   "execution_count": 124,
   "metadata": {},
   "outputs": [
    {
     "data": {
      "text/plain": [
       "Point(x=0, y=-1)"
      ]
     },
     "execution_count": 124,
     "metadata": {},
     "output_type": "execute_result"
    }
   ],
   "source": [
    "pt = Point(0,0)\n",
    "move(pt, 'D')\n",
    "pt"
   ]
  },
  {
   "cell_type": "code",
   "execution_count": 125,
   "metadata": {},
   "outputs": [
    {
     "data": {
      "text/plain": [
       "(Point(x=0, y=0), Point(x=0, y=0))"
      ]
     },
     "execution_count": 125,
     "metadata": {},
     "output_type": "execute_result"
    }
   ],
   "source": [
    "h = Point(0,0)\n",
    "t = Point(1,0)\n",
    "chase(h,t)\n",
    "(h,t)"
   ]
  },
  {
   "cell_type": "code",
   "execution_count": 134,
   "metadata": {},
   "outputs": [],
   "source": [
    "def process(moves, num_tails=1):\n",
    "    h = Point(0,0)\n",
    "    T = [Point(0,0) for _ in range(num_tails)]\n",
    "    been = {(t.x,t.y)}\n",
    "    for (d, s) in moves:\n",
    "        for _ in range(s):\n",
    "            move(h, d)\n",
    "            for (tf,tl) in zip(T, [h] + T):\n",
    "                if not is_touching(tl,tf):\n",
    "                    chase(tl,tf)\n",
    "                assert(is_touching(tl,tf))\n",
    "            been.add((T[-1].x,T[-1].y))        \n",
    "        \n",
    "    return len(been)"
   ]
  },
  {
   "cell_type": "code",
   "execution_count": 136,
   "metadata": {},
   "outputs": [
    {
     "data": {
      "text/plain": [
       "6175"
      ]
     },
     "execution_count": 136,
     "metadata": {},
     "output_type": "execute_result"
    }
   ],
   "source": [
    "pt1 = process(moves)\n",
    "pt1"
   ]
  },
  {
   "cell_type": "code",
   "execution_count": 139,
   "metadata": {},
   "outputs": [
    {
     "data": {
      "text/plain": [
       "2578"
      ]
     },
     "execution_count": 139,
     "metadata": {},
     "output_type": "execute_result"
    }
   ],
   "source": [
    "pt2 = process(moves, num_tails=9)\n",
    "pt2"
   ]
  }
 ],
 "metadata": {
  "kernelspec": {
   "display_name": "Python 3.11.0 64-bit",
   "language": "python",
   "name": "python3"
  },
  "language_info": {
   "codemirror_mode": {
    "name": "ipython",
    "version": 3
   },
   "file_extension": ".py",
   "mimetype": "text/x-python",
   "name": "python",
   "nbconvert_exporter": "python",
   "pygments_lexer": "ipython3",
   "version": "3.11.0"
  },
  "orig_nbformat": 4,
  "vscode": {
   "interpreter": {
    "hash": "949777d72b0d2535278d3dc13498b2535136f6dfe0678499012e853ee9abcab1"
   }
  }
 },
 "nbformat": 4,
 "nbformat_minor": 2
}
