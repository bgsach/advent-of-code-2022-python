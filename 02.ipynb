{
 "cells": [
  {
   "cell_type": "code",
   "execution_count": 1,
   "metadata": {},
   "outputs": [],
   "source": [
    "from pathlib import Path"
   ]
  },
  {
   "cell_type": "code",
   "execution_count": 19,
   "metadata": {},
   "outputs": [],
   "source": [
    "data_pt1 = Path(f'data/02.txt').read_text()\\\n",
    "    .replace('X', 'R')\\\n",
    "    .replace('Y', 'P')\\\n",
    "    .replace('Z', 'S')\\\n",
    "    .replace('A', 'R')\\\n",
    "    .replace('B', 'P')\\\n",
    "    .replace('C', 'S')\\\n",
    "    .split('\\n')"
   ]
  },
  {
   "cell_type": "code",
   "execution_count": 34,
   "metadata": {},
   "outputs": [
    {
     "data": {
      "text/plain": [
       "{'R': 'P', 'P': 'S', 'S': 'R'}"
      ]
     },
     "execution_count": 34,
     "metadata": {},
     "output_type": "execute_result"
    }
   ],
   "source": [
    "rps = 'RPS'\n",
    "wins = {c:n for (c,n) in zip(rps, rps[1:] + rps[0])}\n",
    "wins"
   ]
  },
  {
   "cell_type": "code",
   "execution_count": 29,
   "metadata": {},
   "outputs": [],
   "source": [
    "wins = [('R', 'P'), ('P', 'S'), ('S','R')]\n",
    "values = {'R': 1, 'P' : 2, 'S' : 3}\n",
    "\n",
    "def score(them, me):\n",
    "    if (them, me) in wins:\n",
    "        return values[me] + 6 # win\n",
    "    if them == me:\n",
    "        return values[me] + 3 # draw\n",
    "    return values[me] + 0 # lose"
   ]
  },
  {
   "cell_type": "code",
   "execution_count": 30,
   "metadata": {},
   "outputs": [
    {
     "data": {
      "text/plain": [
       "13221"
      ]
     },
     "execution_count": 30,
     "metadata": {},
     "output_type": "execute_result"
    }
   ],
   "source": [
    "sum(score(*r.split()) for r in data_pt1)"
   ]
  },
  {
   "cell_type": "markdown",
   "metadata": {},
   "source": [
    "(A/X) Rock defeats Scissors (C/Z), \n",
    "(C/Z) Scissors defeats Paper (B/Y), \n",
    "(B/Y) Paper defeats Rock (A/X)."
   ]
  },
  {
   "cell_type": "code",
   "execution_count": 4,
   "metadata": {},
   "outputs": [],
   "source": [
    "scores = {\n",
    "'A X' : 1+3,  # Rock = Rock \n",
    "'A Y' : 2+6,  # Rock > Paper\n",
    "'A Z' : 3+0,  # Rock < Scissors\n",
    "\n",
    "'B X' : 1+0, # Paper > Rock\n",
    "'B Y' : 2+3, # Paper = Paper\n",
    "'B Z' : 3+6, # Paper < Scissors\n",
    "\n",
    "'C X' : 1+6, # Scissors < Rock\n",
    "'C Y' : 2+0, # Scissors > Paper\n",
    "'C Z' : 3+3, # Scissors = Scissors\n",
    "\n",
    "}"
   ]
  },
  {
   "cell_type": "code",
   "execution_count": 10,
   "metadata": {},
   "outputs": [
    {
     "data": {
      "text/plain": [
       "13221"
      ]
     },
     "execution_count": 10,
     "metadata": {},
     "output_type": "execute_result"
    }
   ],
   "source": [
    "pt1 = sum(scores[p] for p in rounds)\n",
    "pt1"
   ]
  },
  {
   "cell_type": "code",
   "execution_count": 13,
   "metadata": {},
   "outputs": [],
   "source": [
    "outcomes = {\n",
    "'A X' : 3+0,  # Lose\n",
    "'A Y' : 1+3,  # Draw\n",
    "'A Z' : 2+6,  # Win\n",
    "\n",
    "'B X' : 1+0, # Lose\n",
    "'B Y' : 2+3, # Draw\n",
    "'B Z' : 3+6, # Win\n",
    "\n",
    "'C X' : 2+0, # Lose\n",
    "'C Y' : 3+3, # Draw\n",
    "'C Z' : 1+6, # Win\n",
    "\n",
    "}"
   ]
  },
  {
   "cell_type": "code",
   "execution_count": 14,
   "metadata": {},
   "outputs": [
    {
     "data": {
      "text/plain": [
       "13131"
      ]
     },
     "execution_count": 14,
     "metadata": {},
     "output_type": "execute_result"
    }
   ],
   "source": [
    "pt2 = sum(outcomes[p] for p in rounds)\n",
    "pt2"
   ]
  },
  {
   "cell_type": "code",
   "execution_count": null,
   "metadata": {},
   "outputs": [],
   "source": []
  }
 ],
 "metadata": {
  "kernelspec": {
   "display_name": "Python 3.11.0 64-bit",
   "language": "python",
   "name": "python3"
  },
  "language_info": {
   "codemirror_mode": {
    "name": "ipython",
    "version": 3
   },
   "file_extension": ".py",
   "mimetype": "text/x-python",
   "name": "python",
   "nbconvert_exporter": "python",
   "pygments_lexer": "ipython3",
   "version": "3.11.0"
  },
  "orig_nbformat": 4,
  "vscode": {
   "interpreter": {
    "hash": "949777d72b0d2535278d3dc13498b2535136f6dfe0678499012e853ee9abcab1"
   }
  }
 },
 "nbformat": 4,
 "nbformat_minor": 2
}
