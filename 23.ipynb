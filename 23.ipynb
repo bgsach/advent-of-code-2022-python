{
 "cells": [
  {
   "cell_type": "code",
   "execution_count": 5,
   "metadata": {},
   "outputs": [],
   "source": [
    "from pathlib import Path\n",
    "import numpy as np"
   ]
  },
  {
   "cell_type": "code",
   "execution_count": 112,
   "metadata": {},
   "outputs": [],
   "source": [
    "def read(prefix='data', suffix='23', pad_width=None):\n",
    "    \n",
    "    lines = Path(f'{prefix}/{suffix}.txt').read_text().rstrip().split('\\n')\n",
    "    M = [[(c == '#') for c in l] for l in lines]\n",
    "    if pad_width is None:\n",
    "        pad_width = len(lines)\n",
    "\n",
    "    return np.pad(np.array(M), pad_width=pad_width)\n",
    "\n",
    "def disp(M):\n",
    "    print(*[''.join('#' if c else '.' for c in r) for r in M], sep='\\n')"
   ]
  },
  {
   "cell_type": "code",
   "execution_count": 82,
   "metadata": {},
   "outputs": [],
   "source": [
    "def check(M, y,x, dy, dx):\n",
    "    assert abs(dx + dy) == 1\n",
    "    yr = slice(y-1,y+2) if dy == 0 else y+dy\n",
    "    xr = slice(x-1,x+2) if dx == 0 else x+dx\n",
    "    return M[yr,xr].sum() == 0\n"
   ]
  },
  {
   "cell_type": "code",
   "execution_count": 142,
   "metadata": {},
   "outputs": [],
   "source": [
    "\n",
    "\n",
    "def propose(M, y, x, dirs):\n",
    "    assert y > 0 and y < M.shape[0] -1\n",
    "    assert x > 0 and x < M.shape[1] -1\n",
    "\n",
    "    if M[y-1:y+2,x-1:x+2].sum() == 1:\n",
    "        return None\n",
    "    for (dy,dx) in dirs:\n",
    "        if check(M, y,x, dy, dx):\n",
    "            return (y+dy, x+dx)\n",
    "    return None"
   ]
  },
  {
   "cell_type": "code",
   "execution_count": 197,
   "metadata": {},
   "outputs": [],
   "source": [
    "from collections import Counter\n",
    "def round(M, dirs):\n",
    "    proposed = Counter()\n",
    "    moves = []\n",
    "    moved = False\n",
    "    for (y,x) in zip(*np.where(M)):\n",
    "        to = propose(M, y, x, dirs)\n",
    "        if to is not None:\n",
    "            proposed[to] += 1\n",
    "            moves.append(((y,x),(to)))\n",
    "\n",
    "    for (fr, to) in moves:\n",
    "        if proposed[to] == 1:\n",
    "            M[*to] = True\n",
    "            M[*fr] = False\n",
    "            moved = True\n",
    "    return moved"
   ]
  },
  {
   "cell_type": "code",
   "execution_count": 211,
   "metadata": {},
   "outputs": [],
   "source": [
    "original_dirs = [(-1,0),(1,0),(0,-1),(0,1)]\n",
    "def simulate(M, num_rounds, verbose=False):\n",
    "    M = M.copy()\n",
    "    dirs = original_dirs\n",
    "    for idx in range(num_rounds):\n",
    "        moved = round(M, dirs)\n",
    "        if not moved:\n",
    "            return (M, idx+1)\n",
    "        if verbose:\n",
    "            print(dirs)\n",
    "            print()\n",
    "            disp(M)\n",
    "            print()\n",
    "        dirs = dirs[1:] + [dirs[0]]\n",
    "    return (M, idx+1)"
   ]
  },
  {
   "cell_type": "code",
   "execution_count": 212,
   "metadata": {},
   "outputs": [],
   "source": [
    "def empty(M):\n",
    "    W = np.where(M)\n",
    "    y_min, y_max = W[0].min(), W[0].max()\n",
    "    x_min, x_max = W[1].min(), W[1].max()\n",
    "    return (~M[y_min:y_max+1, x_min:x_max+1]).sum()"
   ]
  },
  {
   "cell_type": "code",
   "execution_count": 213,
   "metadata": {},
   "outputs": [
    {
     "name": "stdout",
     "output_type": "stream",
     "text": [
      ".................\n",
      ".................\n",
      ".................\n",
      ".................\n",
      ".................\n",
      ".................\n",
      "........#........\n",
      "..........#......\n",
      "......#..........\n",
      "..........#......\n",
      ".................\n",
      "........#........\n",
      ".................\n",
      ".................\n",
      ".................\n",
      ".................\n",
      ".................\n",
      ".................\n"
     ]
    }
   ],
   "source": [
    "M = read('test', '23-2')\n",
    "M, idx = simulate(M,3, verbose=False)\n",
    "disp(M)"
   ]
  },
  {
   "cell_type": "code",
   "execution_count": 214,
   "metadata": {},
   "outputs": [
    {
     "name": "stdout",
     "output_type": "stream",
     "text": [
      ".....................\n",
      ".....................\n",
      ".....................\n",
      ".....................\n",
      ".....................\n",
      "...........#.........\n",
      "...............#.....\n",
      "......#.#..#.........\n",
      "..........#..........\n",
      ".......#.....#..#....\n",
      ".....#......##.......\n",
      ".........##..........\n",
      "......#........#.....\n",
      "........#.#..#.......\n",
      ".....................\n",
      "........#..#..#......\n",
      ".....................\n",
      ".....................\n",
      ".....................\n",
      ".....................\n",
      ".....................\n"
     ]
    },
    {
     "data": {
      "text/plain": [
       "(110, 10)"
      ]
     },
     "execution_count": 214,
     "metadata": {},
     "output_type": "execute_result"
    }
   ],
   "source": [
    "M = read('test')\n",
    "M, idx = simulate(M,10, verbose=False)\n",
    "disp(M)\n",
    "empty(M), idx"
   ]
  },
  {
   "cell_type": "code",
   "execution_count": 215,
   "metadata": {},
   "outputs": [
    {
     "data": {
      "text/plain": [
       "4162"
      ]
     },
     "execution_count": 215,
     "metadata": {},
     "output_type": "execute_result"
    }
   ],
   "source": [
    "M = read()\n",
    "M,idx = simulate(M,10, verbose=False)\n",
    "empty(M)"
   ]
  },
  {
   "cell_type": "code",
   "execution_count": 217,
   "metadata": {},
   "outputs": [
    {
     "data": {
      "text/plain": [
       "(146, 20)"
      ]
     },
     "execution_count": 217,
     "metadata": {},
     "output_type": "execute_result"
    }
   ],
   "source": [
    "M = read('test')\n",
    "M, idx = simulate(M,100, verbose=False)\n",
    "empty(M), idx"
   ]
  },
  {
   "cell_type": "code",
   "execution_count": 218,
   "metadata": {},
   "outputs": [
    {
     "data": {
      "text/plain": [
       "(17210, 986)"
      ]
     },
     "execution_count": 218,
     "metadata": {},
     "output_type": "execute_result"
    }
   ],
   "source": [
    "M = read()\n",
    "M, idx = simulate(M,1000, verbose=False)\n",
    "empty(M), idx"
   ]
  },
  {
   "cell_type": "code",
   "execution_count": null,
   "metadata": {},
   "outputs": [],
   "source": []
  }
 ],
 "metadata": {
  "kernelspec": {
   "display_name": "Python 3",
   "language": "python",
   "name": "python3"
  },
  "language_info": {
   "codemirror_mode": {
    "name": "ipython",
    "version": 3
   },
   "file_extension": ".py",
   "mimetype": "text/x-python",
   "name": "python",
   "nbconvert_exporter": "python",
   "pygments_lexer": "ipython3",
   "version": "3.11.0"
  },
  "orig_nbformat": 4,
  "vscode": {
   "interpreter": {
    "hash": "949777d72b0d2535278d3dc13498b2535136f6dfe0678499012e853ee9abcab1"
   }
  }
 },
 "nbformat": 4,
 "nbformat_minor": 2
}
