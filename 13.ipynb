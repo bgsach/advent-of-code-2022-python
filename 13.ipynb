{
 "cells": [
  {
   "cell_type": "code",
   "execution_count": 23,
   "metadata": {},
   "outputs": [],
   "source": [
    "from pathlib import Path\n",
    "import numpy as np\n",
    "import json"
   ]
  },
  {
   "cell_type": "code",
   "execution_count": 26,
   "metadata": {},
   "outputs": [],
   "source": [
    "def read(prefix='data'):\n",
    "    lines = Path(f'{prefix}/13.txt').read_text().rstrip().split('\\n\\n')\n",
    "    return [tuple(map(json.loads, l.split('\\n'))) for l in lines]"
   ]
  },
  {
   "cell_type": "code",
   "execution_count": 27,
   "metadata": {},
   "outputs": [],
   "source": [
    "lines = read()"
   ]
  },
  {
   "cell_type": "code",
   "execution_count": 28,
   "metadata": {},
   "outputs": [
    {
     "data": {
      "text/plain": [
       "[[10, [[10, 2], 2], 3, 2],\n",
       " [5, 7, [2, [9, 4], 0, [4, 7], 0]],\n",
       " [[6, 6, 10, 6], [[7, 5], [1, 2, 9, 9, 8], 4, [9, 7]], 6],\n",
       " [8, [], 8, 8, [[4, 6, 7, 7]]],\n",
       " [5, [7], [3, 8], [0]]]"
      ]
     },
     "execution_count": 28,
     "metadata": {},
     "output_type": "execute_result"
    }
   ],
   "source": [
    "lines[0][0]"
   ]
  },
  {
   "cell_type": "code",
   "execution_count": null,
   "metadata": {},
   "outputs": [],
   "source": []
  },
  {
   "cell_type": "code",
   "execution_count": 79,
   "metadata": {},
   "outputs": [],
   "source": [
    "def compare(L,R) -> int:\n",
    "    if isinstance(L, int) and isinstance(R, int):\n",
    "        if L < R:\n",
    "            return +1\n",
    "        elif R < L:\n",
    "            return -1\n",
    "        else:\n",
    "            return 0\n",
    "        \n",
    "    if isinstance(L, int):\n",
    "        L = [L]\n",
    "\n",
    "    if isinstance(R, int):\n",
    "        R = [R]\n",
    "\n",
    "    assert isinstance(L, list) and isinstance(R, list), (L, type(L), R, type(R))\n",
    "\n",
    "    for (l,r) in zip(L,R):\n",
    "        val = compare(l,r)\n",
    "        if val != 0:\n",
    "            return val\n",
    "        \n",
    "    if len(L) < len(R):\n",
    "        return 1\n",
    "    elif len(R) < len(L):\n",
    "        return -1\n",
    "\n",
    "    return 0\n",
    "\n",
    "    "
   ]
  },
  {
   "cell_type": "code",
   "execution_count": 80,
   "metadata": {},
   "outputs": [
    {
     "data": {
      "text/plain": [
       "13"
      ]
     },
     "execution_count": 80,
     "metadata": {},
     "output_type": "execute_result"
    }
   ],
   "source": [
    "sum([idx+1 for idx,l in enumerate(read('test')) if compare(*l)==1])"
   ]
  },
  {
   "cell_type": "code",
   "execution_count": 81,
   "metadata": {},
   "outputs": [
    {
     "data": {
      "text/plain": [
       "4894"
      ]
     },
     "execution_count": 81,
     "metadata": {},
     "output_type": "execute_result"
    }
   ],
   "source": [
    "sum([(idx+1) for idx,l in enumerate(read()) if compare(*l)==1])"
   ]
  },
  {
   "cell_type": "code",
   "execution_count": 82,
   "metadata": {},
   "outputs": [],
   "source": [
    "divider1 = [[2]]\n",
    "divider2 = [[6]]"
   ]
  },
  {
   "cell_type": "code",
   "execution_count": 84,
   "metadata": {},
   "outputs": [
    {
     "data": {
      "text/plain": [
       "([[10, [[10, 2], 2], 3, 2],\n",
       "  [5, 7, [2, [9, 4], 0, [4, 7], 0]],\n",
       "  [[6, 6, 10, 6], [[7, 5], [1, 2, 9, 9, 8], 4, [9, 7]], 6],\n",
       "  [8, [], 8, 8, [[4, 6, 7, 7]]],\n",
       "  [5, [7], [3, 8], [0]]],\n",
       " [[[6, 1, []]], [8, [[6, 10, 0, 4], 2, 10, [0, 3, 10, 4], 9], 7, 7]])"
      ]
     },
     "execution_count": 84,
     "metadata": {},
     "output_type": "execute_result"
    }
   ],
   "source": [
    "packets[0]"
   ]
  },
  {
   "cell_type": "code",
   "execution_count": 85,
   "metadata": {},
   "outputs": [],
   "source": [
    "packets = []\n",
    "for (l,r) in read():\n",
    "    packets.extend([l,r])\n",
    "packets = packets + [divider1, divider2]"
   ]
  },
  {
   "cell_type": "code",
   "execution_count": 86,
   "metadata": {},
   "outputs": [],
   "source": [
    "import functools"
   ]
  },
  {
   "cell_type": "code",
   "execution_count": 91,
   "metadata": {},
   "outputs": [],
   "source": [
    "packets_sorted = sorted(packets, key=functools.cmp_to_key(compare), reverse=True)"
   ]
  },
  {
   "cell_type": "code",
   "execution_count": 96,
   "metadata": {},
   "outputs": [
    {
     "data": {
      "text/plain": [
       "24180"
      ]
     },
     "execution_count": 96,
     "metadata": {},
     "output_type": "execute_result"
    }
   ],
   "source": [
    "(packets_sorted.index(divider1) +1) * (packets_sorted.index(divider2) + 1)"
   ]
  },
  {
   "cell_type": "code",
   "execution_count": null,
   "metadata": {},
   "outputs": [],
   "source": []
  }
 ],
 "metadata": {
  "kernelspec": {
   "display_name": "Python 3.11.0 64-bit",
   "language": "python",
   "name": "python3"
  },
  "language_info": {
   "codemirror_mode": {
    "name": "ipython",
    "version": 3
   },
   "file_extension": ".py",
   "mimetype": "text/x-python",
   "name": "python",
   "nbconvert_exporter": "python",
   "pygments_lexer": "ipython3",
   "version": "3.11.0"
  },
  "orig_nbformat": 4,
  "vscode": {
   "interpreter": {
    "hash": "949777d72b0d2535278d3dc13498b2535136f6dfe0678499012e853ee9abcab1"
   }
  }
 },
 "nbformat": 4,
 "nbformat_minor": 2
}
