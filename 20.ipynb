{
 "cells": [
  {
   "cell_type": "code",
   "execution_count": 13,
   "metadata": {},
   "outputs": [],
   "source": [
    "from pathlib import Path\n",
    "from dataclasses import dataclass\n",
    "from collections import Counter"
   ]
  },
  {
   "cell_type": "code",
   "execution_count": 309,
   "metadata": {},
   "outputs": [],
   "source": [
    "def read(prefix='data'):\n",
    "    data = Path(f'{prefix}/20.txt').read_text().rstrip().split('\\n')\n",
    "    return [(idx, int(l)) for idx, l in enumerate(data)]"
   ]
  },
  {
   "cell_type": "code",
   "execution_count": 310,
   "metadata": {},
   "outputs": [],
   "source": [
    "def move(A, frm, steps):\n",
    "    assert frm >= 0\n",
    "\n",
    "    if steps == 0:\n",
    "        return A\n",
    "\n",
    "    if steps < 0:\n",
    "        #print(len(A)-frm-1, -steps)\n",
    "        return move(A[::-1], len(A)-frm-1, -steps)[::-1]\n",
    "\n",
    "    if (frm == len(A) -1) and (steps == 1):\n",
    "        return [A[0], A[-1]] + A[1:-1]\n",
    "\n",
    "    assert steps > 0\n",
    "\n",
    "    to = frm + steps\n",
    "\n",
    "    if to >= len(A):\n",
    "        steps_to_loop = len(A) - frm -1\n",
    "        Aa = move(A, frm, steps_to_loop)\n",
    "        #print(Aa, steps_to_loop)\n",
    "        Ab = move(Aa, 0, steps - steps_to_loop)\n",
    "        #print(Ab, steps - steps_to_loop)\n",
    "        # Ac = move(Ab, 1, steps - (len(A)- frm))\n",
    "        # print(Ac)\n",
    "        return Ab\n",
    "\n",
    "    assert to < len(A)\n",
    "\n",
    "    L = A[:frm]\n",
    "    M = A[frm + 1: to + 1]\n",
    "    F = [A[frm]]\n",
    "    R = A[to + 1:]\n",
    "\n",
    "    A = L + M + F + R\n",
    "    if to == (len(A) - 1):\n",
    "        return [A[-1]] + A[:-1]\n",
    "    else:\n",
    "        return A"
   ]
  },
  {
   "cell_type": "code",
   "execution_count": 311,
   "metadata": {},
   "outputs": [
    {
     "data": {
      "text/plain": [
       "[1, 2, 4, 3, 5]"
      ]
     },
     "execution_count": 311,
     "metadata": {},
     "output_type": "execute_result"
    }
   ],
   "source": [
    "move([1,2,3,4,5], 2, -3)"
   ]
  },
  {
   "cell_type": "code",
   "execution_count": 312,
   "metadata": {},
   "outputs": [],
   "source": [
    "def compute(A, verbose=False):\n",
    "    if verbose:\n",
    "        print('s', ':', 0, 0, 0, [a[1] for a in A])\n",
    "    for idx in range(len(A)):\n",
    "        frm = [p for p in enumerate(A) if p[1][0] == idx][0][0]\n",
    "        steps = A[frm][1]\n",
    "        A = move(A,frm, steps)\n",
    "        if verbose:\n",
    "            print(idx, ':', steps, frm, A[frm], [a[1] for a in A])\n",
    "    return [a[1] for a in A]\n"
   ]
  },
  {
   "cell_type": "code",
   "execution_count": 313,
   "metadata": {},
   "outputs": [],
   "source": [
    "def extract_ans(A):\n",
    "    idx = A.index(0)\n",
    "    an = [A[((i + idx) % len(A))] for i in [1000,2000,3000]]\n",
    "    return an"
   ]
  },
  {
   "cell_type": "code",
   "execution_count": 314,
   "metadata": {},
   "outputs": [
    {
     "data": {
      "text/plain": [
       "([4, -3, 2], [1, 2, -3, 4, 0, 3, -2])"
      ]
     },
     "execution_count": 314,
     "metadata": {},
     "output_type": "execute_result"
    }
   ],
   "source": [
    "T = compute(read('test'))\n",
    "extract_ans(T), T"
   ]
  },
  {
   "cell_type": "code",
   "execution_count": 315,
   "metadata": {},
   "outputs": [
    {
     "data": {
      "text/plain": [
       "[-4436, 3190, 1471]"
      ]
     },
     "execution_count": 315,
     "metadata": {},
     "output_type": "execute_result"
    }
   ],
   "source": [
    "A = compute(read())\n",
    "extract_ans(A)"
   ]
  },
  {
   "cell_type": "code",
   "execution_count": 316,
   "metadata": {},
   "outputs": [
    {
     "data": {
      "text/plain": [
       "5000"
      ]
     },
     "execution_count": 316,
     "metadata": {},
     "output_type": "execute_result"
    }
   ],
   "source": [
    "len(A)"
   ]
  },
  {
   "cell_type": "code",
   "execution_count": null,
   "metadata": {},
   "outputs": [],
   "source": []
  }
 ],
 "metadata": {
  "kernelspec": {
   "display_name": "Python 3.11.0 64-bit",
   "language": "python",
   "name": "python3"
  },
  "language_info": {
   "codemirror_mode": {
    "name": "ipython",
    "version": 3
   },
   "file_extension": ".py",
   "mimetype": "text/x-python",
   "name": "python",
   "nbconvert_exporter": "python",
   "pygments_lexer": "ipython3",
   "version": "3.11.0"
  },
  "orig_nbformat": 4,
  "vscode": {
   "interpreter": {
    "hash": "949777d72b0d2535278d3dc13498b2535136f6dfe0678499012e853ee9abcab1"
   }
  }
 },
 "nbformat": 4,
 "nbformat_minor": 2
}
