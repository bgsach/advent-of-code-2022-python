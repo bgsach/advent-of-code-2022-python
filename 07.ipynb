{
 "cells": [
  {
   "cell_type": "code",
   "execution_count": 276,
   "metadata": {},
   "outputs": [],
   "source": [
    "from pathlib import Path\n",
    "import string\n",
    "from dataclasses import dataclass\n",
    "from typing import Self"
   ]
  },
  {
   "cell_type": "code",
   "execution_count": 277,
   "metadata": {},
   "outputs": [],
   "source": [
    "\n",
    "class Node:\n",
    "    def __init__(self, name : int, isdir : bool = False, size : int | None = None):\n",
    "        assert isdir or (size is not None), 'Set either size or isdir=True'\n",
    "        self.name = name\n",
    "        self.isdir = isdir\n",
    "        self._size = int(size) if size is not None else None\n",
    "        self._children = None\n",
    "\n",
    "    @classmethod\n",
    "    def from_str(cls, s : str):\n",
    "        dir_or_size, name = s.split()\n",
    "        if dir_or_size == 'dir':\n",
    "            return cls(name, isdir=True, size=None)\n",
    "        else:\n",
    "            return cls(name, isdir=False, size=dir_or_size)\n",
    "\n",
    "    @property\n",
    "    def size(self):\n",
    "        if self._size is not None:\n",
    "            return self._size\n",
    "        assert self.isdir\n",
    "        self._size = sum(c.size for c in self.children)\n",
    "        return self._size\n",
    "\n",
    "    def __repr__(self) -> str:\n",
    "        params = ', '.join([f'name=\"{self.name}\"',\n",
    "                          f'isdir={self.isdir}',\n",
    "                          f'size={self._size}'])\n",
    "        if self.isdir:\n",
    "            params += f', #children={len(self.children)}'\n",
    "        return f'Node({params})'\n",
    "\n",
    "    def walk(self) -> list[Self]:\n",
    "        nodes = [self]\n",
    "        if self.isdir and self.children:\n",
    "            for c in self.children:\n",
    "                nodes.extend(c.walk())\n",
    "        return nodes\n",
    "\n",
    "    def make_dirs(self, *lines):\n",
    "        nodes = [Node.from_str(o) for o in lines]\n",
    "        self._children = {node.name : node for node in nodes}\n",
    "\n",
    "    def get_child(self, child):\n",
    "        return self._children[child]\n",
    "    \n",
    "    @property\n",
    "    def children(self):\n",
    "        return self._children.values()"
   ]
  },
  {
   "cell_type": "code",
   "execution_count": 278,
   "metadata": {},
   "outputs": [],
   "source": [
    "class FS:\n",
    "    def __init__(self):\n",
    "        self.root = Node('/', isdir=True, size=None)\n",
    "        self.path = []\n",
    "\n",
    "    @property\n",
    "    def cwd(self):\n",
    "        return self.path[-1]\n",
    "\n",
    "    def up(self):\n",
    "        self.path.pop()\n",
    "\n",
    "    def down(self, child : str):\n",
    "        self.path.append(self.cwd.get_child(child))\n",
    "\n",
    "    def to_root(self):\n",
    "        self.path = [self.root]\n",
    "\n",
    "\n",
    "    def process(self, line : str):\n",
    "        (inp, out) = line.split('\\n', 1)\n",
    "        inp = inp.split()\n",
    "        out = out.rstrip().split('\\n')\n",
    "\n",
    "        match inp:\n",
    "            case ('ls',):\n",
    "                self.cwd.make_dirs(*out)\n",
    "            case ('cd', '/'):\n",
    "                self.to_root()\n",
    "            case ('cd', '..'):\n",
    "                self.up()\n",
    "            case ('cd', str as dir_):\n",
    "                self.down(dir_)\n",
    "            case _:\n",
    "                raise Exception(f'Case not found, {inp}')\n",
    "\n",
    "    def walk(self):\n",
    "        nodes = [self]"
   ]
  },
  {
   "cell_type": "code",
   "execution_count": 279,
   "metadata": {},
   "outputs": [],
   "source": [
    "def load_lines():\n",
    "    lines = Path(f'data/07.txt').read_text().rstrip().split('$')\n",
    "    lines = [l for l in lines if len(l) > 0]\n",
    "    return lines\n"
   ]
  },
  {
   "cell_type": "code",
   "execution_count": 280,
   "metadata": {},
   "outputs": [],
   "source": [
    "lines = load_lines()\n",
    "fs = FS()\n",
    "for line in lines:\n",
    "    fs.process(line)"
   ]
  },
  {
   "cell_type": "code",
   "execution_count": 281,
   "metadata": {},
   "outputs": [
    {
     "data": {
      "text/plain": [
       "1644735"
      ]
     },
     "execution_count": 281,
     "metadata": {},
     "output_type": "execute_result"
    }
   ],
   "source": [
    "pt1 = sum(n.size for n in fs.root.walk() if n.isdir and n.size <= 100000)\n",
    "pt1"
   ]
  },
  {
   "cell_type": "code",
   "execution_count": 282,
   "metadata": {},
   "outputs": [
    {
     "data": {
      "text/plain": [
       "1272621"
      ]
     },
     "execution_count": 282,
     "metadata": {},
     "output_type": "execute_result"
    }
   ],
   "source": [
    "total_space = 70000000\n",
    "install_size = 30000000\n",
    "used_space = fs.root.size\n",
    "unused_space = total_space - used_space\n",
    "space_to_free = install_size - unused_space\n",
    "space_to_free\n"
   ]
  },
  {
   "cell_type": "code",
   "execution_count": 284,
   "metadata": {},
   "outputs": [
    {
     "data": {
      "text/plain": [
       "1300850"
      ]
     },
     "execution_count": 284,
     "metadata": {},
     "output_type": "execute_result"
    }
   ],
   "source": [
    "pt2 = min(n.size for n in fs.root.walk() if n.isdir and n.size >= space_to_free)\n",
    "pt2"
   ]
  }
 ],
 "metadata": {
  "kernelspec": {
   "display_name": "Python 3.11.0 64-bit",
   "language": "python",
   "name": "python3"
  },
  "language_info": {
   "codemirror_mode": {
    "name": "ipython",
    "version": 3
   },
   "file_extension": ".py",
   "mimetype": "text/x-python",
   "name": "python",
   "nbconvert_exporter": "python",
   "pygments_lexer": "ipython3",
   "version": "3.11.0"
  },
  "orig_nbformat": 4,
  "vscode": {
   "interpreter": {
    "hash": "949777d72b0d2535278d3dc13498b2535136f6dfe0678499012e853ee9abcab1"
   }
  }
 },
 "nbformat": 4,
 "nbformat_minor": 2
}
