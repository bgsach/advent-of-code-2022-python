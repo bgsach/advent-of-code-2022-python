{
 "cells": [
  {
   "cell_type": "code",
   "execution_count": 1,
   "metadata": {},
   "outputs": [],
   "source": [
    "from pathlib import Path\n",
    "import numpy as np\n",
    "import itertools\n",
    "from collections import defaultdict"
   ]
  },
  {
   "cell_type": "code",
   "execution_count": 2,
   "metadata": {},
   "outputs": [],
   "source": [
    "def read(prefix='data'):\n",
    "    data = Path(f'{prefix}/17.txt').read_text().rstrip()\n",
    "    return data"
   ]
  },
  {
   "cell_type": "code",
   "execution_count": 3,
   "metadata": {},
   "outputs": [],
   "source": [
    "disp = lambda B, h=10 : print(*[''.join(r) for r in B[-h:]], sep='\\n')"
   ]
  },
  {
   "cell_type": "code",
   "execution_count": 4,
   "metadata": {},
   "outputs": [],
   "source": [
    "def board(count=2022):\n",
    "    B = np.full((count*4+10,9), fill_value='.')\n",
    "    B[:,0] = '|'\n",
    "    B[:,-1] = '|'\n",
    "    B[-1,:] = '-'\n",
    "    B[-1,0] = '+'\n",
    "    B[-1,-1] = '+'\n",
    "    return B"
   ]
  },
  {
   "cell_type": "code",
   "execution_count": 5,
   "metadata": {},
   "outputs": [],
   "source": [
    "def shapes(count=2022):\n",
    "    S = {}\n",
    "    S['-'] = np.array([['#','#','#','#']])\n",
    "    S['+'] = np.array([['.','#','.'],['#', '#', '#'], ['.','#','.']])\n",
    "    S['L'] = np.array([['.','.','#'],['.','.','#'],['#', '#', '#']])\n",
    "    S['|'] = np.array([['#','#','#','#']]).T\n",
    "    S['o'] = np.array([['#', '#'], ['#', '#']])\n",
    "    return S"
   ]
  },
  {
   "cell_type": "code",
   "execution_count": 6,
   "metadata": {},
   "outputs": [
    {
     "name": "stdout",
     "output_type": "stream",
     "text": [
      "\n",
      "####\n",
      "\n",
      ".#.\n",
      "###\n",
      ".#.\n",
      "\n",
      "..#\n",
      "..#\n",
      "###\n",
      "\n",
      "#\n",
      "#\n",
      "#\n",
      "#\n",
      "\n",
      "##\n",
      "##\n"
     ]
    }
   ],
   "source": [
    "for s in shapes().values():\n",
    "    print()\n",
    "    disp(s)"
   ]
  },
  {
   "cell_type": "code",
   "execution_count": 7,
   "metadata": {},
   "outputs": [
    {
     "name": "stdout",
     "output_type": "stream",
     "text": [
      "|.......|\n",
      "|.......|\n",
      "|.......|\n",
      "|.......|\n",
      "|.......|\n",
      "|.......|\n",
      "|.......|\n",
      "|.......|\n",
      "|.......|\n",
      "+-------+\n"
     ]
    }
   ],
   "source": [
    "disp(board(), h=10)"
   ]
  },
  {
   "cell_type": "code",
   "execution_count": 8,
   "metadata": {},
   "outputs": [],
   "source": [
    "def outofbounds(B, S, x, y):\n",
    "    if x < 1:\n",
    "        return True\n",
    "    if y < 0:\n",
    "        return True\n",
    "    if x + S.shape[1] >= B.shape[1]:\n",
    "        return True\n",
    "    if y + S.shape[0] >= B.shape[0]:\n",
    "        return True\n",
    "\n",
    "    return False"
   ]
  },
  {
   "cell_type": "code",
   "execution_count": 9,
   "metadata": {},
   "outputs": [],
   "source": [
    "def intersect(B, s, x, y):\n",
    "    Bw = B[y:y+s.shape[0],x:x+s.shape[1]]\n",
    "    return ((Bw == '#') & (s == '#')).any()"
   ]
  },
  {
   "cell_type": "code",
   "execution_count": 10,
   "metadata": {},
   "outputs": [],
   "source": [
    "def place(B, s, x, y):\n",
    "    Bw = B[y:y+s.shape[0],x:x+s.shape[1]]\n",
    "    B[y:y+s.shape[0],x:x+s.shape[1]] = np.where((s == '#'), s, Bw)"
   ]
  },
  {
   "cell_type": "code",
   "execution_count": 11,
   "metadata": {},
   "outputs": [],
   "source": [
    "def drop(B, s, M, M_idx, y_full):\n",
    "    x = 3\n",
    "    y = y_full - s.shape[0] - 3\n",
    "    down = False\n",
    "    while True:\n",
    "        if down:\n",
    "            xn, yn = x, y+1\n",
    "        if not down:\n",
    "            xn = x+1 if (M[M_idx] == '>') else x-1\n",
    "            yn = y\n",
    "            M_idx = (M_idx + 1) % len(M)\n",
    "        oob = outofbounds(B,s, xn,yn)\n",
    "        isct = intersect(B,s, xn, yn)\n",
    "        if oob or isct:\n",
    "            if down:\n",
    "                break\n",
    "        else:\n",
    "            x, y = xn, yn\n",
    "\n",
    "        down = not down\n",
    "\n",
    "    place(B, s, x, y)\n",
    "    y_full = min(y_full, y)\n",
    "    return y_full, M_idx\n"
   ]
  },
  {
   "cell_type": "code",
   "execution_count": 12,
   "metadata": {},
   "outputs": [],
   "source": [
    "def compute(M,count, M_idx=0):\n",
    "    B = board(count)\n",
    "    S = shapes()\n",
    "    y_full = B.shape[0]-1 # floor\n",
    "    seen = defaultdict(list)\n",
    "    for i, (k,s) in zip(range(count), itertools.cycle(S.items())):\n",
    "        y_full, M_idx = drop(B, s, M, M_idx, y_full)\n",
    "        mins = tuple((B[:,1:-1] == '#').argmax(axis=0) - y_full)\n",
    "        height = B.shape[0] - y_full - 1\n",
    "        seen[mins, k, M_idx].append((height, i+1))\n",
    "    return height, B, seen"
   ]
  },
  {
   "cell_type": "code",
   "execution_count": 13,
   "metadata": {},
   "outputs": [
    {
     "name": "stdout",
     "output_type": "stream",
     "text": [
      "3068\n",
      "|...#...|\n",
      "|#..####|\n",
      "|#...#..|\n",
      "|#...#..|\n",
      "|#...##.|\n",
      "|##..##.|\n",
      "|######.|\n",
      "|.###...|\n",
      "|..#....|\n",
      "|.####..|\n",
      "|....##.|\n",
      "|....##.|\n",
      "|....#..|\n",
      "|..#.#..|\n",
      "|..#.#..|\n",
      "|#####..|\n",
      "|..###..|\n",
      "|...#...|\n",
      "|..####.|\n",
      "+-------+\n"
     ]
    }
   ],
   "source": [
    "count = 2022\n",
    "M = read('test')\n",
    "height, B, seen = compute(M,count)\n",
    "print(height)\n",
    "disp(B,h=20)"
   ]
  },
  {
   "cell_type": "code",
   "execution_count": 14,
   "metadata": {},
   "outputs": [
    {
     "data": {
      "text/plain": [
       "3085"
      ]
     },
     "execution_count": 14,
     "metadata": {},
     "output_type": "execute_result"
    }
   ],
   "source": [
    "count = 2022\n",
    "M = read()\n",
    "height, B, seen = compute(M,count)\n",
    "height"
   ]
  },
  {
   "cell_type": "code",
   "execution_count": 24,
   "metadata": {},
   "outputs": [
    {
     "data": {
      "text/plain": [
       "[(1, 1)]"
      ]
     },
     "execution_count": 24,
     "metadata": {},
     "output_type": "execute_result"
    }
   ],
   "source": [
    "list(seen.values())[0]"
   ]
  },
  {
   "cell_type": "code",
   "execution_count": 25,
   "metadata": {},
   "outputs": [],
   "source": [
    "def find(seen, target):\n",
    "    known = [h for c in seen.values() for (h,m) in c if m == target]\n",
    "    if len(known) > 0:\n",
    "        return known[0]\n",
    "\n",
    "    reps = {k: v for (k,v) in seen.items() if len(v) > 1}\n",
    "    cycles = {(n[0]-c[0],n[1]-c[1]) for rep in reps.items() for (c,n) in zip(rep[1], rep[1][1:])}\n",
    "    assert len(cycles) == 1\n",
    "    cyc_height, cyc_moves = list(cycles)[0]\n",
    "    \n",
    "    for c in reps.items():\n",
    "        base_moves = c[1][0][1]\n",
    "        base_height = c[1][0][0]\n",
    "\n",
    "        if (target - base_moves) % cyc_moves  == 0:\n",
    "            needed = int((target - base_moves) / cyc_moves)\n",
    "            height = base_height + needed*cyc_height\n",
    "            moves = base_moves + needed*cyc_moves\n",
    "            assert moves == target\n",
    "            return height"
   ]
  },
  {
   "cell_type": "code",
   "execution_count": 26,
   "metadata": {},
   "outputs": [
    {
     "data": {
      "text/plain": [
       "1514285714288"
      ]
     },
     "execution_count": 26,
     "metadata": {},
     "output_type": "execute_result"
    }
   ],
   "source": [
    "count = 2022\n",
    "M = read('test')\n",
    "_, _, seen = compute(M,count)\n",
    "find(seen, target=1000000000000)"
   ]
  },
  {
   "cell_type": "code",
   "execution_count": 32,
   "metadata": {},
   "outputs": [
    {
     "data": {
      "text/plain": [
       "1535483870924"
      ]
     },
     "execution_count": 32,
     "metadata": {},
     "output_type": "execute_result"
    }
   ],
   "source": [
    "count = 5000\n",
    "M = read()\n",
    "_, _, seen = compute(M,count)\n",
    "find(seen, target=1000000000000)"
   ]
  }
 ],
 "metadata": {
  "kernelspec": {
   "display_name": "Python 3.11.0 64-bit",
   "language": "python",
   "name": "python3"
  },
  "language_info": {
   "codemirror_mode": {
    "name": "ipython",
    "version": 3
   },
   "file_extension": ".py",
   "mimetype": "text/x-python",
   "name": "python",
   "nbconvert_exporter": "python",
   "pygments_lexer": "ipython3",
   "version": "3.11.0"
  },
  "orig_nbformat": 4,
  "vscode": {
   "interpreter": {
    "hash": "949777d72b0d2535278d3dc13498b2535136f6dfe0678499012e853ee9abcab1"
   }
  }
 },
 "nbformat": 4,
 "nbformat_minor": 2
}
