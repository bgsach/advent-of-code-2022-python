{
 "cells": [
  {
   "cell_type": "code",
   "execution_count": 4,
   "metadata": {},
   "outputs": [],
   "source": [
    "from pathlib import Path\n",
    "import numpy as np"
   ]
  },
  {
   "cell_type": "code",
   "execution_count": 73,
   "metadata": {},
   "outputs": [],
   "source": [
    "def read(prefix='data', suffix='24', pad_width=None):\n",
    "    \n",
    "    lines = Path(f'{prefix}/{suffix}.txt').read_text().rstrip().split('\\n')\n",
    "    M = {}\n",
    "    for t in ['#', '<', '^', '>', 'v']:\n",
    "        M[t] = np.array([[(c == t) for c in l] for l in lines])\n",
    "\n",
    "    return np.stack(list(M.values()))\n",
    "\n",
    "def disp(M):\n",
    "    print(*[''.join('#' if c else '.' for c in r) for r in M], sep='\\n')"
   ]
  },
  {
   "cell_type": "code",
   "execution_count": 185,
   "metadata": {},
   "outputs": [],
   "source": [
    "def moves(M,y,x):\n",
    "    out = set()\n",
    "    for (dy,dx) in [(0,1),(1,0),(-1,0),(0,-1), (0,0)]:\n",
    "        ny, nx = y+dy, x+dx\n",
    "        if (ny >= 0) and (ny < M.shape[1]) and (nx >= 0) and (nx < M.shape[2]):\n",
    "            if M[:,ny,nx].sum() == 0:\n",
    "                out.add((ny,nx))\n",
    "    return out\n"
   ]
  },
  {
   "cell_type": "code",
   "execution_count": 186,
   "metadata": {},
   "outputs": [],
   "source": [
    "def update(M):\n",
    "    A = M[:,1:-1,1:-1] \n",
    "    A[1] = np.roll(A[1],shift=-1,axis=1)\n",
    "    A[2] = np.roll(A[2],shift=-1,axis=0)\n",
    "    A[3] = np.roll(A[3],shift=1,axis=1)\n",
    "    A[4] = np.roll(A[4],shift=1,axis=0)"
   ]
  },
  {
   "cell_type": "code",
   "execution_count": 187,
   "metadata": {},
   "outputs": [],
   "source": [
    "def find(M, ys=0,xs=1, yt=None, xt=None, start_steps=0, num_steps=100):\n",
    "    M = M.copy()\n",
    "    if yt is None:\n",
    "        yt = M.shape[1] - 1\n",
    "    if xt is None:\n",
    "        xt = M.shape[2] - 2 \n",
    "\n",
    "    states = {(ys,xs)}\n",
    "\n",
    "    for _ in range(start_steps):\n",
    "        update(M)\n",
    "\n",
    "    for step in range(1,num_steps):\n",
    "        update(M)\n",
    "        states_nw = set()\n",
    "        for (y,x) in states:\n",
    "            states_nw = states_nw | moves(M,y,x)\n",
    "        states = states_nw\n",
    "        \n",
    "        if (yt,xt) in states:\n",
    "            return step\n",
    "\n",
    "    return None\n",
    "        "
   ]
  },
  {
   "cell_type": "code",
   "execution_count": 188,
   "metadata": {},
   "outputs": [
    {
     "data": {
      "text/plain": [
       "18"
      ]
     },
     "execution_count": 188,
     "metadata": {},
     "output_type": "execute_result"
    }
   ],
   "source": [
    "find(read('test'), num_steps=1000)"
   ]
  },
  {
   "cell_type": "code",
   "execution_count": 189,
   "metadata": {},
   "outputs": [
    {
     "data": {
      "text/plain": [
       "253"
      ]
     },
     "execution_count": 189,
     "metadata": {},
     "output_type": "execute_result"
    }
   ],
   "source": [
    "find(read(), num_steps=1000)"
   ]
  },
  {
   "cell_type": "code",
   "execution_count": 194,
   "metadata": {},
   "outputs": [],
   "source": [
    "def find2(M, num_steps=100):\n",
    "    ys, xs = 0, 1\n",
    "    yt, xt = M.shape[1] - 1, M.shape[2] - 2\n",
    "    tot = find(M, num_steps=num_steps)\n",
    "    tot += find(M, ys=yt, xs=xt, yt=ys,xt=xs, num_steps=num_steps, start_steps=tot)\n",
    "    tot += find(M, num_steps=num_steps, start_steps=tot)\n",
    "\n",
    "    return tot "
   ]
  },
  {
   "cell_type": "code",
   "execution_count": 195,
   "metadata": {},
   "outputs": [
    {
     "data": {
      "text/plain": [
       "54"
      ]
     },
     "execution_count": 195,
     "metadata": {},
     "output_type": "execute_result"
    }
   ],
   "source": [
    "find2(read('test'), num_steps=1000)"
   ]
  },
  {
   "cell_type": "code",
   "execution_count": 196,
   "metadata": {},
   "outputs": [
    {
     "data": {
      "text/plain": [
       "794"
      ]
     },
     "execution_count": 196,
     "metadata": {},
     "output_type": "execute_result"
    }
   ],
   "source": [
    "find2(read(), num_steps=1000)"
   ]
  },
  {
   "cell_type": "code",
   "execution_count": null,
   "metadata": {},
   "outputs": [],
   "source": []
  }
 ],
 "metadata": {
  "kernelspec": {
   "display_name": "Python 3",
   "language": "python",
   "name": "python3"
  },
  "language_info": {
   "codemirror_mode": {
    "name": "ipython",
    "version": 3
   },
   "file_extension": ".py",
   "mimetype": "text/x-python",
   "name": "python",
   "nbconvert_exporter": "python",
   "pygments_lexer": "ipython3",
   "version": "3.11.0 (main, Nov 15 2022, 19:58:01) [GCC 10.2.1 20210110]"
  },
  "orig_nbformat": 4,
  "vscode": {
   "interpreter": {
    "hash": "949777d72b0d2535278d3dc13498b2535136f6dfe0678499012e853ee9abcab1"
   }
  }
 },
 "nbformat": 4,
 "nbformat_minor": 2
}
