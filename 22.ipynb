{
 "cells": [
  {
   "cell_type": "code",
   "execution_count": 40,
   "metadata": {},
   "outputs": [],
   "source": [
    "from pathlib import Path\n",
    "import numpy as np\n",
    "from enum import Enum"
   ]
  },
  {
   "cell_type": "code",
   "execution_count": 36,
   "metadata": {},
   "outputs": [],
   "source": [
    "def parse_map(lines):\n",
    "    width = max(len(l) for l in lines)\n",
    "    M = [list(l + ' ' * (width-len(l))) for l in lines]\n",
    "    return np.array(M)\n",
    "        \n",
    "def parse_inst(insts):\n",
    "    cur = ''\n",
    "    out = []\n",
    "    for c in insts:\n",
    "        if c in ['L','R']:\n",
    "            if len(cur) > 0:\n",
    "                out.extend([int(cur),c])\n",
    "            else:\n",
    "                out.append(c)\n",
    "            cur = ''\n",
    "        else:\n",
    "            cur = cur + c\n",
    "    return out\n",
    "\n",
    "def read(prefix='data'):\n",
    "    M, I = Path(f'{prefix}/22.txt').read_text().rstrip().split('\\n\\n')\n",
    "    return parse_map(M.rstrip().split('\\n')), parse_inst(I)\n",
    "\n"
   ]
  },
  {
   "cell_type": "code",
   "execution_count": 37,
   "metadata": {},
   "outputs": [],
   "source": [
    "M, I = read('test')"
   ]
  },
  {
   "cell_type": "code",
   "execution_count": 38,
   "metadata": {},
   "outputs": [
    {
     "name": "stdout",
     "output_type": "stream",
     "text": [
      "        ...#    \n",
      "        .#..    \n",
      "        #...    \n",
      "        ....    \n",
      "...#.......#    \n",
      "........#...    \n",
      "..#....#....    \n",
      "..........#.    \n",
      "        ...#....\n",
      "        .....#..\n",
      "        .#......\n",
      "        ......#.\n"
     ]
    }
   ],
   "source": [
    "disp(M)"
   ]
  },
  {
   "cell_type": "code",
   "execution_count": 39,
   "metadata": {},
   "outputs": [
    {
     "data": {
      "text/plain": [
       "[10, 'R', 5, 'L', 5, 'R', 10, 'L', 4, 'R', 5, 'L']"
      ]
     },
     "execution_count": 39,
     "metadata": {},
     "output_type": "execute_result"
    }
   ],
   "source": [
    "I"
   ]
  },
  {
   "cell_type": "code",
   "execution_count": 65,
   "metadata": {},
   "outputs": [],
   "source": [
    "class Facing(Enum):\n",
    "    right = 0\n",
    "    down = 1\n",
    "    left = 2\n",
    "    up = 3\n",
    "\n",
    "    def turnR(self):\n",
    "        val = (self.value +1) % 4\n",
    "        return Facing(val)\n",
    "\n",
    "    def turnL(self):\n",
    "        val = (self.value +1) % 4\n",
    "        return Facing(val)\n",
    "\n",
    "    def turn(self, d):\n",
    "        if d == 'L':\n",
    "            return self.turnL()\n",
    "        elif d == 'R':\n",
    "            return self.turnR()\n",
    "        else:\n",
    "            raise Exception(f'unknown direction {d=}')"
   ]
  },
  {
   "cell_type": "code",
   "execution_count": 97,
   "metadata": {},
   "outputs": [],
   "source": [
    "class Map:\n",
    "    def __init__(self, M):\n",
    "        self._M = M\n",
    "        self.x = list(M[0]).index('.')\n",
    "        self.y = 0\n",
    "        self.facing = Facing.right\n",
    "        self.__set_boundary()\n",
    "    \n",
    "    def __set_boundary(self):\n",
    "        self.edgeL, self.edgeR = [], []\n",
    "        for i in range(self._M.shape[0]):\n",
    "            onmap = np.where(self._M[i] != ' ')[0]\n",
    "            self.edgeL.append(onmap[0])\n",
    "            self.edgeR.append(onmap[-1])\n",
    "\n",
    "        self.edgeT, self.edgeB = [], []\n",
    "        for i in range(self._M.shape[1]):\n",
    "            onmap = np.where(self._M[:,i] != ' ')[0]\n",
    "            self.edgeT.append(onmap[0])\n",
    "            self.edgeB.append(onmap[-1])\n",
    "\n",
    "\n",
    "    def move(self, inst):\n",
    "        if inst in ['L', 'R']:\n",
    "            self.facing = self.facing.turn(inst)\n",
    "\n",
    "        inst = int(inst)\n",
    "        self.forward(inst)\n",
    "\n",
    "    def disp(self):\n",
    "        print(*[''.join(r) for r in self._M], sep='\\n')\n",
    "\n",
    "    def password(self):\n",
    "        return ((self.y+1) * 1000)  + ((self.x+1) * 4) + self.facing.value"
   ]
  },
  {
   "cell_type": "code",
   "execution_count": 108,
   "metadata": {},
   "outputs": [
    {
     "name": "stdout",
     "output_type": "stream",
     "text": [
      "        ...#    \n",
      "        .#..    \n",
      "        #...    \n",
      "        ....    \n",
      "...#.......#    \n",
      "........#...    \n",
      "..#....#....    \n",
      "..........#.    \n",
      "        ...#....\n",
      "        .....#..\n",
      "        .#......\n",
      "        ......#.\n"
     ]
    }
   ],
   "source": [
    "M, I = read('test')\n",
    "map = Map(M)\n",
    "map.disp()"
   ]
  },
  {
   "cell_type": "code",
   "execution_count": 121,
   "metadata": {},
   "outputs": [
    {
     "data": {
      "text/plain": [
       "[7, 7, 7, 7, 7, 7, 7, 7, 11, 11, 11, 11, 11, 11, 11, 11]"
      ]
     },
     "execution_count": 121,
     "metadata": {},
     "output_type": "execute_result"
    }
   ],
   "source": [
    "map.edgeB"
   ]
  },
  {
   "cell_type": "code",
   "execution_count": 120,
   "metadata": {},
   "outputs": [
    {
     "data": {
      "text/plain": [
       "'.'"
      ]
     },
     "execution_count": 120,
     "metadata": {},
     "output_type": "execute_result"
    }
   ],
   "source": [
    "M[8,-1]"
   ]
  },
  {
   "cell_type": "code",
   "execution_count": null,
   "metadata": {},
   "outputs": [],
   "source": []
  }
 ],
 "metadata": {
  "kernelspec": {
   "display_name": "Python 3",
   "language": "python",
   "name": "python3"
  },
  "language_info": {
   "codemirror_mode": {
    "name": "ipython",
    "version": 3
   },
   "file_extension": ".py",
   "mimetype": "text/x-python",
   "name": "python",
   "nbconvert_exporter": "python",
   "pygments_lexer": "ipython3",
   "version": "3.11.0"
  },
  "orig_nbformat": 4,
  "vscode": {
   "interpreter": {
    "hash": "949777d72b0d2535278d3dc13498b2535136f6dfe0678499012e853ee9abcab1"
   }
  }
 },
 "nbformat": 4,
 "nbformat_minor": 2
}
