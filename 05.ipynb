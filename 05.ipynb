{
 "cells": [
  {
   "cell_type": "code",
   "execution_count": 1,
   "metadata": {},
   "outputs": [],
   "source": [
    "from pathlib import Path\n",
    "import string\n",
    "import copy"
   ]
  },
  {
   "cell_type": "code",
   "execution_count": 2,
   "metadata": {},
   "outputs": [],
   "source": [
    "crates, moves = Path(f'data/05.txt').read_text().rstrip()\\\n",
    "    .split('\\n\\n')\n",
    "\n",
    "crates = crates.split('\\n')\n",
    "moves = moves.split('\\n')"
   ]
  },
  {
   "cell_type": "code",
   "execution_count": 3,
   "metadata": {},
   "outputs": [],
   "source": [
    "def extract_moves(line):\n",
    "    kept = string.digits + ' '\n",
    "    line = ''.join([c for c in line if c in kept])\n",
    "    return [int(l) for l in line.split()]"
   ]
  },
  {
   "cell_type": "code",
   "execution_count": 4,
   "metadata": {},
   "outputs": [],
   "source": [
    "M = [extract_moves(l) for l in moves]"
   ]
  },
  {
   "cell_type": "code",
   "execution_count": 5,
   "metadata": {},
   "outputs": [],
   "source": [
    "def extract_crates(line):\n",
    "    line = ' ' + line\n",
    "    return [line[idx+2] for idx in range(0, len(line), 4)]"
   ]
  },
  {
   "cell_type": "code",
   "execution_count": 6,
   "metadata": {},
   "outputs": [],
   "source": [
    "C = [extract_crates(line) for line in crates[:-1]]\n",
    "A = [[] for _ in range(len(C[0]))]\n",
    "\n",
    "for line in C[::-1]:\n",
    "    for idx,l in enumerate(line):\n",
    "        if l != ' ':\n",
    "            A[idx].append(l)"
   ]
  },
  {
   "cell_type": "code",
   "execution_count": 7,
   "metadata": {},
   "outputs": [],
   "source": [
    "def move(A, num, f, t, reverse=True):\n",
    "    f, t = f-1, t-1\n",
    "    \n",
    "    taken = A[f][-num:]\n",
    "    if reverse:\n",
    "        taken = taken[::-1]\n",
    "\n",
    "    A[f] = A[f][:-num]\n",
    "    A[t] = A[t] + taken"
   ]
  },
  {
   "cell_type": "code",
   "execution_count": 8,
   "metadata": {},
   "outputs": [
    {
     "name": "stdout",
     "output_type": "stream",
     "text": [
      "JRVNHHCSJ\n"
     ]
    }
   ],
   "source": [
    "A_ = copy.deepcopy(A)\n",
    "for (num, f, t) in M:\n",
    "    move(A_, num, f,t, reverse=True)\n",
    "\n",
    "pt1 = ''.join([l[-1] for l in A_])\n",
    "print(pt1)"
   ]
  },
  {
   "cell_type": "code",
   "execution_count": 9,
   "metadata": {},
   "outputs": [
    {
     "name": "stdout",
     "output_type": "stream",
     "text": [
      "GNFBSBJLH\n"
     ]
    }
   ],
   "source": [
    "A_ = copy.deepcopy(A)\n",
    "for (num, f, t) in M:\n",
    "    move(A_, num, f,t, reverse=False)\n",
    "\n",
    "pt2 = ''.join([l[-1] for l in A_])\n",
    "print(pt2)"
   ]
  }
 ],
 "metadata": {
  "kernelspec": {
   "display_name": "Python 3.11.0 64-bit",
   "language": "python",
   "name": "python3"
  },
  "language_info": {
   "codemirror_mode": {
    "name": "ipython",
    "version": 3
   },
   "file_extension": ".py",
   "mimetype": "text/x-python",
   "name": "python",
   "nbconvert_exporter": "python",
   "pygments_lexer": "ipython3",
   "version": "3.11.0"
  },
  "orig_nbformat": 4,
  "vscode": {
   "interpreter": {
    "hash": "949777d72b0d2535278d3dc13498b2535136f6dfe0678499012e853ee9abcab1"
   }
  }
 },
 "nbformat": 4,
 "nbformat_minor": 2
}
